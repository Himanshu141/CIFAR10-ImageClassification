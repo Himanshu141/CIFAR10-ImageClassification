{
 "cells": [
  {
   "cell_type": "markdown",
   "metadata": {
    "collapsed": true,
    "deletable": true,
    "editable": true
   },
   "source": [
    "# Image Classification\n",
    "In this project, you'll classify images from the [CIFAR-10 dataset](https://www.cs.toronto.edu/~kriz/cifar.html).  The dataset consists of airplanes, dogs, cats, and other objects. You'll preprocess the images, then train a convolutional neural network on all the samples. The images need to be normalized and the labels need to be one-hot encoded.  You'll get to apply what you learned and build a convolutional, max pooling, dropout, and fully connected layers.  At the end, you'll get to see your neural network's predictions on the sample images.\n",
    "## Get the Data\n",
    "Run the following cell to download the [CIFAR-10 dataset for python](https://www.cs.toronto.edu/~kriz/cifar-10-python.tar.gz)."
   ]
  },
  {
   "cell_type": "code",
   "execution_count": 1,
   "metadata": {
    "collapsed": false,
    "deletable": true,
    "editable": true
   },
   "outputs": [
    {
     "name": "stdout",
     "output_type": "stream",
     "text": [
      "All files found!\n"
     ]
    }
   ],
   "source": [
    "\"\"\"\n",
    "DON'T MODIFY ANYTHING IN THIS CELL THAT IS BELOW THIS LINE\n",
    "\"\"\"\n",
    "from urllib.request import urlretrieve\n",
    "from os.path import isfile, isdir\n",
    "from tqdm import tqdm\n",
    "import problem_unittests as tests\n",
    "import tarfile\n",
    "\n",
    "cifar10_dataset_folder_path = 'cifar-10-batches-py'\n",
    "\n",
    "# Use Floyd's cifar-10 dataset if present\n",
    "floyd_cifar10_location = '/input/cifar-10/python.tar.gz'\n",
    "if isfile(floyd_cifar10_location):\n",
    "    tar_gz_path = floyd_cifar10_location\n",
    "else:\n",
    "    tar_gz_path = 'cifar-10-python.tar.gz'\n",
    "\n",
    "class DLProgress(tqdm):\n",
    "    last_block = 0\n",
    "\n",
    "    def hook(self, block_num=1, block_size=1, total_size=None):\n",
    "        self.total = total_size\n",
    "        self.update((block_num - self.last_block) * block_size)\n",
    "        self.last_block = block_num\n",
    "\n",
    "if not isfile(tar_gz_path):\n",
    "    with DLProgress(unit='B', unit_scale=True, miniters=1, desc='CIFAR-10 Dataset') as pbar:\n",
    "        urlretrieve(\n",
    "            'https://www.cs.toronto.edu/~kriz/cifar-10-python.tar.gz',\n",
    "            tar_gz_path,\n",
    "            pbar.hook)\n",
    "\n",
    "if not isdir(cifar10_dataset_folder_path):\n",
    "    with tarfile.open(tar_gz_path) as tar:\n",
    "        tar.extractall()\n",
    "        tar.close()\n",
    "\n",
    "\n",
    "tests.test_folder_path(cifar10_dataset_folder_path)"
   ]
  },
  {
   "cell_type": "markdown",
   "metadata": {
    "deletable": true,
    "editable": true
   },
   "source": [
    "## Explore the Data\n",
    "The dataset is broken into batches to prevent your machine from running out of memory.  The CIFAR-10 dataset consists of 5 batches, named `data_batch_1`, `data_batch_2`, etc.. Each batch contains the labels and images that are one of the following:\n",
    "* airplane\n",
    "* automobile\n",
    "* bird\n",
    "* cat\n",
    "* deer\n",
    "* dog\n",
    "* frog\n",
    "* horse\n",
    "* ship\n",
    "* truck\n",
    "\n",
    "Understanding a dataset is part of making predictions on the data.  Play around with the code cell below by changing the `batch_id` and `sample_id`. The `batch_id` is the id for a batch (1-5). The `sample_id` is the id for a image and label pair in the batch.\n",
    "\n",
    "Ask yourself \"What are all possible labels?\", \"What is the range of values for the image data?\", \"Are the labels in order or random?\".  Answers to questions like these will help you preprocess the data and end up with better predictions."
   ]
  },
  {
   "cell_type": "code",
   "execution_count": 2,
   "metadata": {
    "collapsed": false,
    "deletable": true,
    "editable": true
   },
   "outputs": [
    {
     "name": "stdout",
     "output_type": "stream",
     "text": [
      "\n",
      "Stats of batch 1:\n",
      "Samples: 10000\n",
      "Label Counts: {0: 1005, 1: 974, 2: 1032, 3: 1016, 4: 999, 5: 937, 6: 1030, 7: 1001, 8: 1025, 9: 981}\n",
      "First 20 Labels: [6, 9, 9, 4, 1, 1, 2, 7, 8, 3, 4, 7, 7, 2, 9, 9, 9, 3, 2, 6]\n",
      "\n",
      "Example of Image 5:\n",
      "Image - Min Value: 0 Max Value: 252\n",
      "Image - Shape: (32, 32, 3)\n",
      "Label - Label Id: 1 Name: automobile\n"
     ]
    },
    {
     "data": {
      "image/png": "[encoded data removed]",
      "text/plain": [
       "<matplotlib.figure.Figure at 0x7f7ee84e35f8>"
      ]
     },
     "metadata": {
      "image/png": {
       "height": 250,
       "width": 253
      }
     },
     "output_type": "display_data"
    }
   ],
   "source": [
    "%matplotlib inline\n",
    "%config InlineBackend.figure_format = 'retina'\n",
    "\n",
    "import helper\n",
    "import numpy as np\n",
    "\n",
    "# Explore the dataset\n",
    "batch_id = 1\n",
    "sample_id = 5\n",
    "helper.display_stats(cifar10_dataset_folder_path, batch_id, sample_id)"
   ]
  },
  {
   "cell_type": "markdown",
   "metadata": {
    "deletable": true,
    "editable": true
   },
   "source": [
    "## Implement Preprocess Functions\n",
    "### Normalize\n",
    "In the cell below, implement the `normalize` function to take in image data, `x`, and return it as a normalized Numpy array. The values should be in the range of 0 to 1, inclusive.  The return object should be the same shape as `x`."
   ]
  },
  {
   "cell_type": "code",
   "execution_count": 3,
   "metadata": {
    "collapsed": false,
    "deletable": true,
    "editable": true
   },
   "outputs": [
    {
     "name": "stdout",
     "output_type": "stream",
     "text": [
      "Tests Passed\n"
     ]
    }
   ],
   "source": [
    "def normalize(x):\n",
    "    \"\"\"\n",
    "    Normalize a list of sample image data in the range of 0 to 1\n",
    "    : x: List of image data.  The image shape is (32, 32, 3)\n",
    "    : return: Numpy array of normalize data\n",
    "    \"\"\"\n",
    "    # TODO: Implement Function\n",
    "    return x/255.0\n",
    "\n",
    "\n",
    "\"\"\"\n",
    "DON'T MODIFY ANYTHING IN THIS CELL THAT IS BELOW THIS LINE\n",
    "\"\"\"\n",
    "tests.test_normalize(normalize)"
   ]
  },
  {
   "cell_type": "markdown",
   "metadata": {
    "deletable": true,
    "editable": true
   },
   "source": [
    "### One-hot encode\n",
    "Just like the previous code cell, you'll be implementing a function for preprocessing.  This time, you'll implement the `one_hot_encode` function. The input, `x`, are a list of labels.  Implement the function to return the list of labels as One-Hot encoded Numpy array.  The possible values for labels are 0 to 9. The one-hot encoding function should return the same encoding for each value between each call to `one_hot_encode`.  Make sure to save the map of encodings outside the function.\n",
    "\n",
    "Hint: Don't reinvent the wheel."
   ]
  },
  {
   "cell_type": "code",
   "execution_count": 4,
   "metadata": {
    "collapsed": false,
    "deletable": true,
    "editable": true
   },
   "outputs": [
    {
     "name": "stdout",
     "output_type": "stream",
     "text": [
      "Tests Passed\n"
     ]
    }
   ],
   "source": [
    "import sklearn.preprocessing as preprocessing\n",
    "def one_hot_encode(x):\n",
    "    \"\"\"\n",
    "    One hot encode a list of sample labels. Return a one-hot encoded vector for each label.\n",
    "    : x: List of sample Labels\n",
    "    : return: Numpy array of one-hot encoded labels\n",
    "    \"\"\"\n",
    "    # TODO: Implement Function\n",
    "    lb = preprocessing.LabelBinarizer()\n",
    "    lb.fit(np.array([0,1,2,3,4,5,6,7,8,9]))\n",
    "    return lb.transform(x)\n",
    "\n",
    "\n",
    "\"\"\"\n",
    "DON'T MODIFY ANYTHING IN THIS CELL THAT IS BELOW THIS LINE\n",
    "\"\"\"\n",
    "tests.test_one_hot_encode(one_hot_encode)"
   ]
  },
  {
   "cell_type": "markdown",
   "metadata": {
    "deletable": true,
    "editable": true
   },
   "source": [
    "### Randomize Data\n",
    "As you saw from exploring the data above, the order of the samples are randomized.  It doesn't hurt to randomize it again, but you don't need to for this dataset."
   ]
  },
  {
   "cell_type": "markdown",
   "metadata": {
    "deletable": true,
    "editable": true
   },
   "source": [
    "## Preprocess all the data and save it\n",
    "Running the code cell below will preprocess all the CIFAR-10 data and save it to file. The code below also uses 10% of the training data for validation."
   ]
  },
  {
   "cell_type": "code",
   "execution_count": 5,
   "metadata": {
    "collapsed": false,
    "deletable": true,
    "editable": true
   },
   "outputs": [],
   "source": [
    "\"\"\"\n",
    "DON'T MODIFY ANYTHING IN THIS CELL\n",
    "\"\"\"\n",
    "# Preprocess Training, Validation, and Testing Data\n",
    "helper.preprocess_and_save_data(cifar10_dataset_folder_path, normalize, one_hot_encode)"
   ]
  },
  {
   "cell_type": "markdown",
   "metadata": {
    "deletable": true,
    "editable": true
   },
   "source": [
    "# Check Point\n",
    "This is your first checkpoint.  If you ever decide to come back to this notebook or have to restart the notebook, you can start from here.  The preprocessed data has been saved to disk."
   ]
  },
  {
   "cell_type": "code",
   "execution_count": 6,
   "metadata": {
    "collapsed": true,
    "deletable": true,
    "editable": true
   },
   "outputs": [],
   "source": [
    "\"\"\"\n",
    "DON'T MODIFY ANYTHING IN THIS CELL\n",
    "\"\"\"\n",
    "import pickle\n",
    "import problem_unittests as tests\n",
    "import helper\n",
    "\n",
    "# Load the Preprocessed Validation data\n",
    "valid_features, valid_labels = pickle.load(open('preprocess_validation.p', mode='rb'))"
   ]
  },
  {
   "cell_type": "markdown",
   "metadata": {
    "deletable": true,
    "editable": true
   },
   "source": [
    "## Build the network\n",
    "For the neural network, you'll build each layer into a function.  Most of the code you've seen has been outside of functions. To test your code more thoroughly, we require that you put each layer in a function.  This allows us to give you better feedback and test for simple mistakes using our unittests before you submit your project.\n",
    "\n",
    ">**Note:** If you're finding it hard to dedicate enough time for this course each week, we've provided a small shortcut to this part of the project. In the next couple of problems, you'll have the option to use classes from the [TensorFlow Layers](https://www.tensorflow.org/api_docs/python/tf/layers) or [TensorFlow Layers (contrib)](https://www.tensorflow.org/api_guides/python/contrib.layers) packages to build each layer, except the layers you build in the \"Convolutional and Max Pooling Layer\" section.  TF Layers is similar to Keras's and TFLearn's abstraction to layers, so it's easy to pickup.\n",
    "\n",
    ">However, if you would like to get the most out of this course, try to solve all the problems _without_ using anything from the TF Layers packages. You **can** still use classes from other packages that happen to have the same name as ones you find in TF Layers! For example, instead of using the TF Layers version of the `conv2d` class, [tf.layers.conv2d](https://www.tensorflow.org/api_docs/python/tf/layers/conv2d), you would want to use the TF Neural Network version of `conv2d`, [tf.nn.conv2d](https://www.tensorflow.org/api_docs/python/tf/nn/conv2d). \n",
    "\n",
    "Let's begin!\n",
    "\n",
    "### Input\n",
    "The neural network needs to read the image data, one-hot encoded labels, and dropout keep probability. Implement the following functions\n",
    "* Implement `neural_net_image_input`\n",
    " * Return a [TF Placeholder](https://www.tensorflow.org/api_docs/python/tf/placeholder)\n",
    " * Set the shape using `image_shape` with batch size set to `None`.\n",
    " * Name the TensorFlow placeholder \"x\" using the TensorFlow `name` parameter in the [TF Placeholder](https://www.tensorflow.org/api_docs/python/tf/placeholder).\n",
    "* Implement `neural_net_label_input`\n",
    " * Return a [TF Placeholder](https://www.tensorflow.org/api_docs/python/tf/placeholder)\n",
    " * Set the shape using `n_classes` with batch size set to `None`.\n",
    " * Name the TensorFlow placeholder \"y\" using the TensorFlow `name` parameter in the [TF Placeholder](https://www.tensorflow.org/api_docs/python/tf/placeholder).\n",
    "* Implement `neural_net_keep_prob_input`\n",
    " * Return a [TF Placeholder](https://www.tensorflow.org/api_docs/python/tf/placeholder) for dropout keep probability.\n",
    " * Name the TensorFlow placeholder \"keep_prob\" using the TensorFlow `name` parameter in the [TF Placeholder](https://www.tensorflow.org/api_docs/python/tf/placeholder).\n",
    "\n",
    "These names will be used at the end of the project to load your saved model.\n",
    "\n",
    "Note: `None` for shapes in TensorFlow allow for a dynamic size."
   ]
  },
  {
   "cell_type": "code",
   "execution_count": 17,
   "metadata": {
    "collapsed": false,
    "deletable": true,
    "editable": true
   },
   "outputs": [
    {
     "name": "stdout",
     "output_type": "stream",
     "text": [
      "Image Input Tests Passed.\n",
      "Label Input Tests Passed.\n",
      "Keep Prob Tests Passed.\n"
     ]
    }
   ],
   "source": [
    "import tensorflow as tf\n",
    "\n",
    "def neural_net_image_input(image_shape):\n",
    "    \"\"\"\n",
    "    Return a Tensor for a batch of image input\n",
    "    : image_shape: Shape of the images\n",
    "    : return: Tensor for image input.\n",
    "    \"\"\"\n",
    "    # TODO: Implement Function\n",
    "    return tf.placeholder(tf.float32,[None,image_shape[0],image_shape[1],image_shape[2]],name='x')\n",
    "\n",
    "\n",
    "def neural_net_label_input(n_classes):\n",
    "    \"\"\"\n",
    "    Return a Tensor for a batch of label input\n",
    "    : n_classes: Number of classes\n",
    "    : return: Tensor for label input.\n",
    "    \"\"\"\n",
    "    # TODO: Implement Function\n",
    "    return tf.placeholder(tf.float32,[None,n_classes],name='y')\n",
    "\n",
    "\n",
    "def neural_net_keep_prob_input():\n",
    "    \"\"\"\n",
    "    Return a Tensor for keep probability\n",
    "    : return: Tensor for keep probability.\n",
    "    \"\"\"\n",
    "    # TODO: Implement Function\n",
    "    return tf.placeholder(tf.float32,name='keep_prob')\n",
    "\n",
    "\n",
    "\"\"\"\n",
    "DON'T MODIFY ANYTHING IN THIS CELL THAT IS BELOW THIS LINE\n",
    "\"\"\"\n",
    "tf.reset_default_graph()\n",
    "tests.test_nn_image_inputs(neural_net_image_input)\n",
    "tests.test_nn_label_inputs(neural_net_label_input)\n",
    "tests.test_nn_keep_prob_inputs(neural_net_keep_prob_input)"
   ]
  },
  {
   "cell_type": "markdown",
   "metadata": {
    "deletable": true,
    "editable": true
   },
   "source": [
    "### Convolution and Max Pooling Layer\n",
    "Convolution layers have a lot of success with images. For this code cell, you should implement the function `conv2d_maxpool` to apply convolution then max pooling:\n",
    "* Create the weight and bias using `conv_ksize`, `conv_num_outputs` and the shape of `x_tensor`.\n",
    "* Apply a convolution to `x_tensor` using weight and `conv_strides`.\n",
    " * We recommend you use same padding, but you're welcome to use any padding.\n",
    "* Add bias\n",
    "* Add a nonlinear activation to the convolution.\n",
    "* Apply Max Pooling using `pool_ksize` and `pool_strides`.\n",
    " * We recommend you use same padding, but you're welcome to use any padding.\n",
    "\n",
    "**Note:** You **can't** use [TensorFlow Layers](https://www.tensorflow.org/api_docs/python/tf/layers) or [TensorFlow Layers (contrib)](https://www.tensorflow.org/api_guides/python/contrib.layers) for **this** layer, but you can still use TensorFlow's [Neural Network](https://www.tensorflow.org/api_docs/python/tf/nn) package. You may still use the shortcut option for all the **other** layers."
   ]
  },
  {
   "cell_type": "code",
   "execution_count": 18,
   "metadata": {
    "collapsed": false,
    "deletable": true,
    "editable": true
   },
   "outputs": [
    {
     "name": "stdout",
     "output_type": "stream",
     "text": [
      "Tests Passed\n"
     ]
    }
   ],
   "source": [
    "def conv2d_maxpool(x_tensor, conv_num_outputs, conv_ksize, conv_strides, pool_ksize, pool_strides):\n",
    "    \"\"\"\n",
    "    Apply convolution then max pooling to x_tensor\n",
    "    :param x_tensor: TensorFlow Tensor\n",
    "    :param conv_num_outputs: Number of outputs for the convolutional layer\n",
    "    :param conv_ksize: kernal size 2-D Tuple for the convolutional layer\n",
    "    :param conv_strides: Stride 2-D Tuple for convolution\n",
    "    :param pool_ksize: kernal size 2-D Tuple for pool\n",
    "    :param pool_strides: Stride 2-D Tuple for pool\n",
    "    : return: A tensor that represents convolution and max pooling of x_tensor\n",
    "    \"\"\"\n",
    "    # TODO: Implement Function\n",
    "    s = x_tensor.get_shape().as_list()   \n",
    "    shape = list(conv_ksize + (s[-1],) + (conv_num_outputs,))\n",
    "    conv_W = tf.Variable(tf.truncated_normal(shape,0,0.1))\n",
    "    conv_b = tf.Variable(tf.zeros(conv_num_outputs))\n",
    "    layer = tf.nn.conv2d(x_tensor, conv_W, list((1,)+conv_strides+(1,)),padding='SAME')\n",
    "    layer = tf.nn.bias_add(layer, conv_b)\n",
    "    layer = tf.nn.relu(layer)\n",
    "    layer = tf.nn.max_pool(layer,ksize=[1] + list(pool_ksize) + [1],strides=[1] + list(pool_strides) + [1],padding='SAME')\n",
    "    return layer\n",
    "\n",
    "\n",
    "\"\"\"\n",
    "DON'T MODIFY ANYTHING IN THIS CELL THAT IS BELOW THIS LINE\n",
    "\"\"\"\n",
    "tests.test_con_pool(conv2d_maxpool)"
   ]
  },
  {
   "cell_type": "markdown",
   "metadata": {
    "deletable": true,
    "editable": true
   },
   "source": [
    "### Flatten Layer\n",
    "Implement the `flatten` function to change the dimension of `x_tensor` from a 4-D tensor to a 2-D tensor.  The output should be the shape (*Batch Size*, *Flattened Image Size*). Shortcut option: you can use classes from the [TensorFlow Layers](https://www.tensorflow.org/api_docs/python/tf/layers) or [TensorFlow Layers (contrib)](https://www.tensorflow.org/api_guides/python/contrib.layers) packages for this layer. For more of a challenge, only use other TensorFlow packages."
   ]
  },
  {
   "cell_type": "code",
   "execution_count": 19,
   "metadata": {
    "collapsed": false,
    "deletable": true,
    "editable": true
   },
   "outputs": [
    {
     "name": "stdout",
     "output_type": "stream",
     "text": [
      "Tests Passed\n"
     ]
    }
   ],
   "source": [
    "def flatten(x_tensor):\n",
    "    \"\"\"\n",
    "    Flatten x_tensor to (Batch Size, Flattened Image Size)\n",
    "    : x_tensor: A tensor of size (Batch Size, ...), where ... are the image dimensions.\n",
    "    : return: A tensor of size (Batch Size, Flattened Image Size).\n",
    "    \"\"\"\n",
    "    # TODO: Implement Function\n",
    "    shape = x_tensor.get_shape().as_list()       \n",
    "    dim = np.prod(shape[1:])\n",
    "    return tf.reshape(x_tensor, [-1, dim]) \n",
    "\n",
    "\n",
    "\"\"\"\n",
    "DON'T MODIFY ANYTHING IN THIS CELL THAT IS BELOW THIS LINE\n",
    "\"\"\"\n",
    "tests.test_flatten(flatten)"
   ]
  },
  {
   "cell_type": "markdown",
   "metadata": {
    "deletable": true,
    "editable": true
   },
   "source": [
    "### Fully-Connected Layer\n",
    "Implement the `fully_conn` function to apply a fully connected layer to `x_tensor` with the shape (*Batch Size*, *num_outputs*). Shortcut option: you can use classes from the [TensorFlow Layers](https://www.tensorflow.org/api_docs/python/tf/layers) or [TensorFlow Layers (contrib)](https://www.tensorflow.org/api_guides/python/contrib.layers) packages for this layer. For more of a challenge, only use other TensorFlow packages."
   ]
  },
  {
   "cell_type": "code",
   "execution_count": 20,
   "metadata": {
    "collapsed": false,
    "deletable": true,
    "editable": true
   },
   "outputs": [
    {
     "name": "stdout",
     "output_type": "stream",
     "text": [
      "Tests Passed\n"
     ]
    }
   ],
   "source": [
    "def fully_conn(x_tensor, num_outputs):\n",
    "    \"\"\"\n",
    "    Apply a fully connected layer to x_tensor using weight and bias\n",
    "    : x_tensor: A 2-D tensor where the first dimension is batch size.\n",
    "    : num_outputs: The number of output that the new tensor should be.\n",
    "    : return: A 2-D tensor where the second dimension is num_outputs.\n",
    "    \"\"\"\n",
    "    # TODO: Implement Function\n",
    "    shape = x_tensor.get_shape().as_list()\n",
    "    weights=tf.Variable(tf.truncated_normal([shape[1],num_outputs],0,0.1))\n",
    "    biases = tf.Variable(tf.truncated_normal([num_outputs]))\n",
    "    layer_1 = tf.add(tf.matmul(x_tensor, weights),biases)\n",
    "    return tf.nn.relu(layer_1)\n",
    "\n",
    "\n",
    "\n",
    "\n",
    "\"\"\"\n",
    "DON'T MODIFY ANYTHING IN THIS CELL THAT IS BELOW THIS LINE\n",
    "\"\"\"\n",
    "tests.test_fully_conn(fully_conn)"
   ]
  },
  {
   "cell_type": "markdown",
   "metadata": {
    "deletable": true,
    "editable": true
   },
   "source": [
    "### Output Layer\n",
    "Implement the `output` function to apply a fully connected layer to `x_tensor` with the shape (*Batch Size*, *num_outputs*). Shortcut option: you can use classes from the [TensorFlow Layers](https://www.tensorflow.org/api_docs/python/tf/layers) or [TensorFlow Layers (contrib)](https://www.tensorflow.org/api_guides/python/contrib.layers) packages for this layer. For more of a challenge, only use other TensorFlow packages.\n",
    "\n",
    "**Note:** Activation, softmax, or cross entropy should **not** be applied to this."
   ]
  },
  {
   "cell_type": "code",
   "execution_count": 21,
   "metadata": {
    "collapsed": false,
    "deletable": true,
    "editable": true
   },
   "outputs": [
    {
     "name": "stdout",
     "output_type": "stream",
     "text": [
      "Tests Passed\n"
     ]
    }
   ],
   "source": [
    "def output(x_tensor, num_outputs):\n",
    "    \"\"\"\n",
    "    Apply a output layer to x_tensor using weight and bias\n",
    "    : x_tensor: A 2-D tensor where the first dimension is batch size.\n",
    "    : num_outputs: The number of output that the new tensor should be.\n",
    "    : return: A 2-D tensor where the second dimension is num_outputs.\n",
    "    \"\"\"\n",
    "    # TODO: Implement Function\n",
    "    shape = x_tensor.get_shape().as_list()\n",
    "    weights=tf.Variable(tf.truncated_normal([shape[1],num_outputs],0,0.01))\n",
    "    biases = tf.Variable(tf.zeros([num_outputs]))\n",
    "    return tf.add(tf.matmul(x_tensor, weights),biases)\n",
    "\n",
    "\n",
    "\"\"\"\n",
    "DON'T MODIFY ANYTHING IN THIS CELL THAT IS BELOW THIS LINE\n",
    "\"\"\"\n",
    "tests.test_output(output)"
   ]
  },
  {
   "cell_type": "markdown",
   "metadata": {
    "deletable": true,
    "editable": true
   },
   "source": [
    "### Create Convolutional Model\n",
    "Implement the function `conv_net` to create a convolutional neural network model. The function takes in a batch of images, `x`, and outputs logits.  Use the layers you created above to create this model:\n",
    "\n",
    "* Apply 1, 2, or 3 Convolution and Max Pool layers\n",
    "* Apply a Flatten Layer\n",
    "* Apply 1, 2, or 3 Fully Connected Layers\n",
    "* Apply an Output Layer\n",
    "* Return the output\n",
    "* Apply [TensorFlow's Dropout](https://www.tensorflow.org/api_docs/python/tf/nn/dropout) to one or more layers in the model using `keep_prob`. "
   ]
  },
  {
   "cell_type": "code",
   "execution_count": 22,
   "metadata": {
    "collapsed": false,
    "deletable": true,
    "editable": true
   },
   "outputs": [
    {
     "name": "stdout",
     "output_type": "stream",
     "text": [
      "Neural Network Built!\n"
     ]
    }
   ],
   "source": [
    "def conv_net(x, keep_prob):\n",
    "    \"\"\"\n",
    "    Create a convolutional neural network model\n",
    "    : x: Placeholder tensor that holds image data.\n",
    "    : keep_prob: Placeholder tensor that hold dropout keep probability.\n",
    "    : return: Tensor that represents logits\n",
    "    \"\"\"\n",
    "    # TODO: Apply 1, 2, or 3 Convolution and Max Pool layers\n",
    "    #    Play around with different number of outputs, kernel size and stride\n",
    "    # Function Definition from Above:\n",
    "    #    conv2d_maxpool(x_tensor, conv_num_outputs, conv_ksize, conv_strides, pool_ksize, pool_strides)\n",
    "    conv_1 = conv2d_maxpool(x,  conv_num_outputs=10, conv_ksize=(4,4), conv_strides=(1,1), pool_ksize=(5,5), pool_strides=(1,1))\n",
    "    conv_2 = conv2d_maxpool(conv_1, conv_num_outputs=18, conv_ksize=(4,4), conv_strides=(1,1), pool_ksize=(3,3), pool_strides=(1,1))\n",
    "    #conv_3 = conv2d_maxpool(conv_2, 15 , [10,10], [1,1], [7,7], [1,1])\n",
    "    # TODO: Apply a Flatten Layer\n",
    "    # Function Definition from Above:\n",
    "    #   flatten(x_tensor)\n",
    "    dropoutLayer = tf.nn.dropout(conv_2,keep_prob)\n",
    "    x_flat = flatten(dropoutLayer)\n",
    "    \n",
    "    # TODO: Apply 1, 2, or 3 Fully Connected Layers\n",
    "    #    Play around with different number of outputs\n",
    "    # Function Definition from Above:\n",
    "    #   fully_conn(x_tensor, num_outputs)\n",
    "    fc1 = fully_conn(x_flat, 16)\n",
    "    fc2 = fully_conn(fc1, 24)\n",
    "    #fc3 = fully_conn(fc2, 28)\n",
    "    \n",
    "    # TODO: Apply an Output Layer\n",
    "    #    Set this to the number of classes\n",
    "    # Function Definition from Above:\n",
    "    #   output(x_tensor, num_outputs)\n",
    "    logits = output(fc2, 10)\n",
    "    \n",
    "    # TODO: return output\n",
    "    return logits\n",
    "\n",
    "\n",
    "\"\"\"\n",
    "DON'T MODIFY ANYTHING IN THIS CELL THAT IS BELOW THIS LINE\n",
    "\"\"\"\n",
    "\n",
    "##############################\n",
    "## Build the Neural Network ##\n",
    "##############################\n",
    "\n",
    "# Remove previous weights, bias, inputs, etc..\n",
    "tf.reset_default_graph()\n",
    "\n",
    "# Inputs\n",
    "x = neural_net_image_input((32, 32, 3))\n",
    "y = neural_net_label_input(10)\n",
    "keep_prob = neural_net_keep_prob_input()\n",
    "\n",
    "# Model\n",
    "logits = conv_net(x, keep_prob)\n",
    "\n",
    "# Name logits Tensor, so that is can be loaded from disk after training\n",
    "logits = tf.identity(logits, name='logits')\n",
    "\n",
    "# Loss and Optimizer\n",
    "cost = tf.reduce_mean(tf.nn.softmax_cross_entropy_with_logits(logits=logits, labels=y))\n",
    "optimizer = tf.train.AdamOptimizer().minimize(cost)\n",
    "\n",
    "# Accuracy\n",
    "correct_pred = tf.equal(tf.argmax(logits, 1), tf.argmax(y, 1))\n",
    "accuracy = tf.reduce_mean(tf.cast(correct_pred, tf.float32), name='accuracy')\n",
    "\n",
    "tests.test_conv_net(conv_net)"
   ]
  },
  {
   "cell_type": "markdown",
   "metadata": {
    "deletable": true,
    "editable": true
   },
   "source": [
    "## Train the Neural Network\n",
    "### Single Optimization\n",
    "Implement the function `train_neural_network` to do a single optimization.  The optimization should use `optimizer` to optimize in `session` with a `feed_dict` of the following:\n",
    "* `x` for image input\n",
    "* `y` for labels\n",
    "* `keep_prob` for keep probability for dropout\n",
    "\n",
    "This function will be called for each batch, so `tf.global_variables_initializer()` has already been called.\n",
    "\n",
    "Note: Nothing needs to be returned. This function is only optimizing the neural network."
   ]
  },
  {
   "cell_type": "code",
   "execution_count": 23,
   "metadata": {
    "collapsed": false,
    "deletable": true,
    "editable": true
   },
   "outputs": [
    {
     "name": "stdout",
     "output_type": "stream",
     "text": [
      "Tests Passed\n"
     ]
    }
   ],
   "source": [
    "def train_neural_network(session, optimizer, keep_probability, feature_batch, label_batch):\n",
    "    \"\"\"\n",
    "    Optimize the session on a batch of images and labels\n",
    "    : session: Current TensorFlow session\n",
    "    : optimizer: TensorFlow optimizer function\n",
    "    : keep_probability: keep probability\n",
    "    : feature_batch: Batch of Numpy image data\n",
    "    : label_batch: Batch of Numpy label data\n",
    "    \"\"\"\n",
    "    # TODO: Implement Function\n",
    "    session.run(optimizer, feed_dict={x: feature_batch,y: label_batch,keep_prob:keep_probability })\n",
    "\n",
    "\n",
    "\"\"\"\n",
    "DON'T MODIFY ANYTHING IN THIS CELL THAT IS BELOW THIS LINE\n",
    "\"\"\"\n",
    "tests.test_train_nn(train_neural_network)"
   ]
  },
  {
   "cell_type": "markdown",
   "metadata": {
    "deletable": true,
    "editable": true
   },
   "source": [
    "### Show Stats\n",
    "Implement the function `print_stats` to print loss and validation accuracy.  Use the global variables `valid_features` and `valid_labels` to calculate validation accuracy.  Use a keep probability of `1.0` to calculate the loss and validation accuracy."
   ]
  },
  {
   "cell_type": "code",
   "execution_count": 24,
   "metadata": {
    "collapsed": false,
    "deletable": true,
    "editable": true
   },
   "outputs": [],
   "source": [
    "def print_stats(session, feature_batch, label_batch, cost, accuracy):\n",
    "    \"\"\"\n",
    "    Print information about loss and validation accuracy\n",
    "    : session: Current TensorFlow session\n",
    "    : feature_batch: Batch of Numpy image data\n",
    "    : label_batch: Batch of Numpy label data\n",
    "    : cost: TensorFlow cost function\n",
    "    : accuracy: TensorFlow accuracy function\n",
    "    \"\"\"\n",
    "    # TODO: Implement Function\n",
    "    loss = session.run(cost, feed_dict={x: feature_batch,\n",
    "                y: label_batch,\n",
    "                keep_prob: 1.})\n",
    "    valid_acc = session.run(accuracy, feed_dict={x: feature_batch,\n",
    "                y:label_batch,\n",
    "                keep_prob: 1.})\n",
    "\n",
    "    print('Loss: {:>10.4f} Validation Accuracy: {:.6f}'.format(loss,valid_acc))"
   ]
  },
  {
   "cell_type": "markdown",
   "metadata": {
    "deletable": true,
    "editable": true
   },
   "source": [
    "### Hyperparameters\n",
    "Tune the following parameters:\n",
    "* Set `epochs` to the number of iterations until the network stops learning or start overfitting\n",
    "* Set `batch_size` to the highest number that your machine has memory for.  Most people set them to common sizes of memory:\n",
    " * 64\n",
    " * 128\n",
    " * 256\n",
    " * ...\n",
    "* Set `keep_probability` to the probability of keeping a node using dropout"
   ]
  },
  {
   "cell_type": "code",
   "execution_count": 25,
   "metadata": {
    "collapsed": true,
    "deletable": true,
    "editable": true
   },
   "outputs": [],
   "source": [
    "# TODO: Tune Parameters\n",
    "epochs = 100\n",
    "batch_size = 64\n",
    "keep_probability = .7"
   ]
  },
  {
   "cell_type": "markdown",
   "metadata": {
    "deletable": true,
    "editable": true
   },
   "source": [
    "### Train on a Single CIFAR-10 Batch\n",
    "Instead of training the neural network on all the CIFAR-10 batches of data, let's use a single batch. This should save time while you iterate on the model to get a better accuracy.  Once the final validation accuracy is 50% or greater, run the model on all the data in the next section."
   ]
  },
  {
   "cell_type": "code",
   "execution_count": 26,
   "metadata": {
    "collapsed": false,
    "deletable": true,
    "editable": true
   },
   "outputs": [
    {
     "name": "stdout",
     "output_type": "stream",
     "text": [
      "Checking the Training on a Single Batch...\n",
      "Epoch  1, CIFAR-10 Batch 1:  Loss:     2.0691 Validation Accuracy: 0.200000\n",
      "Epoch  2, CIFAR-10 Batch 1:  Loss:     1.9540 Validation Accuracy: 0.250000\n",
      "Epoch  3, CIFAR-10 Batch 1:  Loss:     1.8705 Validation Accuracy: 0.350000\n",
      "Epoch  4, CIFAR-10 Batch 1:  Loss:     1.7839 Validation Accuracy: 0.325000\n",
      "Epoch  5, CIFAR-10 Batch 1:  Loss:     1.6101 Validation Accuracy: 0.425000\n",
      "Epoch  6, CIFAR-10 Batch 1:  Loss:     1.5650 Validation Accuracy: 0.500000\n",
      "Epoch  7, CIFAR-10 Batch 1:  Loss:     1.5737 Validation Accuracy: 0.525000\n",
      "Epoch  8, CIFAR-10 Batch 1:  Loss:     1.5271 Validation Accuracy: 0.475000\n",
      "Epoch  9, CIFAR-10 Batch 1:  Loss:     1.4354 Validation Accuracy: 0.500000\n",
      "Epoch 10, CIFAR-10 Batch 1:  Loss:     1.3818 Validation Accuracy: 0.500000\n",
      "Epoch 11, CIFAR-10 Batch 1:  Loss:     1.3437 Validation Accuracy: 0.525000\n",
      "Epoch 12, CIFAR-10 Batch 1:  Loss:     1.2697 Validation Accuracy: 0.525000\n",
      "Epoch 13, CIFAR-10 Batch 1:  Loss:     1.2802 Validation Accuracy: 0.525000\n",
      "Epoch 14, CIFAR-10 Batch 1:  Loss:     1.2218 Validation Accuracy: 0.600000\n",
      "Epoch 15, CIFAR-10 Batch 1:  Loss:     1.2495 Validation Accuracy: 0.550000\n",
      "Epoch 16, CIFAR-10 Batch 1:  Loss:     1.2303 Validation Accuracy: 0.600000\n",
      "Epoch 17, CIFAR-10 Batch 1:  Loss:     1.2145 Validation Accuracy: 0.600000\n",
      "Epoch 18, CIFAR-10 Batch 1:  Loss:     1.1494 Validation Accuracy: 0.625000\n",
      "Epoch 19, CIFAR-10 Batch 1:  Loss:     1.1267 Validation Accuracy: 0.625000\n",
      "Epoch 20, CIFAR-10 Batch 1:  Loss:     1.1451 Validation Accuracy: 0.575000\n",
      "Epoch 21, CIFAR-10 Batch 1:  Loss:     1.1721 Validation Accuracy: 0.575000\n",
      "Epoch 22, CIFAR-10 Batch 1:  Loss:     1.0781 Validation Accuracy: 0.600000\n",
      "Epoch 23, CIFAR-10 Batch 1:  Loss:     1.1513 Validation Accuracy: 0.575000\n",
      "Epoch 24, CIFAR-10 Batch 1:  Loss:     1.1087 Validation Accuracy: 0.600000\n",
      "Epoch 25, CIFAR-10 Batch 1:  Loss:     1.0509 Validation Accuracy: 0.650000\n",
      "Epoch 26, CIFAR-10 Batch 1:  Loss:     1.0702 Validation Accuracy: 0.650000\n",
      "Epoch 27, CIFAR-10 Batch 1:  Loss:     1.0435 Validation Accuracy: 0.650000\n",
      "Epoch 28, CIFAR-10 Batch 1:  Loss:     1.0092 Validation Accuracy: 0.675000\n",
      "Epoch 29, CIFAR-10 Batch 1:  Loss:     0.9382 Validation Accuracy: 0.675000\n",
      "Epoch 30, CIFAR-10 Batch 1:  Loss:     0.9442 Validation Accuracy: 0.600000\n",
      "Epoch 31, CIFAR-10 Batch 1:  Loss:     0.9644 Validation Accuracy: 0.575000\n",
      "Epoch 32, CIFAR-10 Batch 1:  Loss:     0.9099 Validation Accuracy: 0.625000\n",
      "Epoch 33, CIFAR-10 Batch 1:  Loss:     0.8431 Validation Accuracy: 0.625000\n",
      "Epoch 34, CIFAR-10 Batch 1:  Loss:     0.8208 Validation Accuracy: 0.650000\n",
      "Epoch 35, CIFAR-10 Batch 1:  Loss:     0.8327 Validation Accuracy: 0.675000\n",
      "Epoch 36, CIFAR-10 Batch 1:  Loss:     0.7900 Validation Accuracy: 0.675000\n",
      "Epoch 37, CIFAR-10 Batch 1:  Loss:     0.8167 Validation Accuracy: 0.675000\n",
      "Epoch 38, CIFAR-10 Batch 1:  Loss:     0.7855 Validation Accuracy: 0.725000\n",
      "Epoch 39, CIFAR-10 Batch 1:  Loss:     0.7234 Validation Accuracy: 0.650000\n",
      "Epoch 40, CIFAR-10 Batch 1:  Loss:     0.7169 Validation Accuracy: 0.725000\n",
      "Epoch 41, CIFAR-10 Batch 1:  Loss:     0.6952 Validation Accuracy: 0.725000\n",
      "Epoch 42, CIFAR-10 Batch 1:  Loss:     0.6981 Validation Accuracy: 0.775000\n",
      "Epoch 43, CIFAR-10 Batch 1:  Loss:     0.6841 Validation Accuracy: 0.775000\n",
      "Epoch 44, CIFAR-10 Batch 1:  Loss:     0.6763 Validation Accuracy: 0.750000\n",
      "Epoch 45, CIFAR-10 Batch 1:  Loss:     0.6777 Validation Accuracy: 0.800000\n",
      "Epoch 46, CIFAR-10 Batch 1:  Loss:     0.6756 Validation Accuracy: 0.725000\n",
      "Epoch 47, CIFAR-10 Batch 1:  Loss:     0.6483 Validation Accuracy: 0.800000\n",
      "Epoch 48, CIFAR-10 Batch 1:  Loss:     0.6326 Validation Accuracy: 0.825000\n",
      "Epoch 49, CIFAR-10 Batch 1:  Loss:     0.5929 Validation Accuracy: 0.825000\n",
      "Epoch 50, CIFAR-10 Batch 1:  Loss:     0.6005 Validation Accuracy: 0.825000\n",
      "Epoch 51, CIFAR-10 Batch 1:  Loss:     0.6156 Validation Accuracy: 0.850000\n",
      "Epoch 52, CIFAR-10 Batch 1:  Loss:     0.5985 Validation Accuracy: 0.825000\n",
      "Epoch 53, CIFAR-10 Batch 1:  Loss:     0.6559 Validation Accuracy: 0.775000\n",
      "Epoch 54, CIFAR-10 Batch 1:  Loss:     0.6449 Validation Accuracy: 0.775000\n",
      "Epoch 55, CIFAR-10 Batch 1:  Loss:     0.6163 Validation Accuracy: 0.800000\n",
      "Epoch 56, CIFAR-10 Batch 1:  Loss:     0.5884 Validation Accuracy: 0.825000\n",
      "Epoch 57, CIFAR-10 Batch 1:  Loss:     0.5959 Validation Accuracy: 0.800000\n",
      "Epoch 58, CIFAR-10 Batch 1:  Loss:     0.5461 Validation Accuracy: 0.850000\n",
      "Epoch 59, CIFAR-10 Batch 1:  Loss:     0.5612 Validation Accuracy: 0.825000\n",
      "Epoch 60, CIFAR-10 Batch 1:  Loss:     0.5541 Validation Accuracy: 0.850000\n",
      "Epoch 61, CIFAR-10 Batch 1:  Loss:     0.5432 Validation Accuracy: 0.850000\n",
      "Epoch 62, CIFAR-10 Batch 1:  Loss:     0.5237 Validation Accuracy: 0.850000\n",
      "Epoch 63, CIFAR-10 Batch 1:  Loss:     0.5731 Validation Accuracy: 0.775000\n",
      "Epoch 64, CIFAR-10 Batch 1:  Loss:     0.5159 Validation Accuracy: 0.875000\n",
      "Epoch 65, CIFAR-10 Batch 1:  Loss:     0.5049 Validation Accuracy: 0.825000\n",
      "Epoch 66, CIFAR-10 Batch 1:  Loss:     0.4971 Validation Accuracy: 0.750000\n",
      "Epoch 67, CIFAR-10 Batch 1:  Loss:     0.4967 Validation Accuracy: 0.875000\n",
      "Epoch 68, CIFAR-10 Batch 1:  Loss:     0.5098 Validation Accuracy: 0.875000\n",
      "Epoch 69, CIFAR-10 Batch 1:  Loss:     0.4646 Validation Accuracy: 0.825000\n",
      "Epoch 70, CIFAR-10 Batch 1:  Loss:     0.4515 Validation Accuracy: 0.875000\n",
      "Epoch 71, CIFAR-10 Batch 1:  Loss:     0.4357 Validation Accuracy: 0.850000\n",
      "Epoch 72, CIFAR-10 Batch 1:  Loss:     0.4112 Validation Accuracy: 0.875000\n",
      "Epoch 73, CIFAR-10 Batch 1:  Loss:     0.4569 Validation Accuracy: 0.850000\n",
      "Epoch 74, CIFAR-10 Batch 1:  Loss:     0.4307 Validation Accuracy: 0.850000\n",
      "Epoch 75, CIFAR-10 Batch 1:  Loss:     0.4174 Validation Accuracy: 0.825000\n",
      "Epoch 76, CIFAR-10 Batch 1:  Loss:     0.3867 Validation Accuracy: 0.850000\n",
      "Epoch 77, CIFAR-10 Batch 1:  Loss:     0.4041 Validation Accuracy: 0.825000\n",
      "Epoch 78, CIFAR-10 Batch 1:  Loss:     0.4368 Validation Accuracy: 0.800000\n",
      "Epoch 79, CIFAR-10 Batch 1:  Loss:     0.3912 Validation Accuracy: 0.875000\n",
      "Epoch 80, CIFAR-10 Batch 1:  Loss:     0.3954 Validation Accuracy: 0.825000\n",
      "Epoch 81, CIFAR-10 Batch 1:  Loss:     0.3561 Validation Accuracy: 0.825000\n",
      "Epoch 82, CIFAR-10 Batch 1:  Loss:     0.3727 Validation Accuracy: 0.875000\n",
      "Epoch 83, CIFAR-10 Batch 1:  Loss:     0.3492 Validation Accuracy: 0.875000\n",
      "Epoch 84, CIFAR-10 Batch 1:  Loss:     0.3533 Validation Accuracy: 0.850000\n",
      "Epoch 85, CIFAR-10 Batch 1:  Loss:     0.3435 Validation Accuracy: 0.875000\n",
      "Epoch 86, CIFAR-10 Batch 1:  Loss:     0.3689 Validation Accuracy: 0.850000\n",
      "Epoch 87, CIFAR-10 Batch 1:  Loss:     0.3103 Validation Accuracy: 0.875000\n",
      "Epoch 88, CIFAR-10 Batch 1:  Loss:     0.3413 Validation Accuracy: 0.825000\n",
      "Epoch 89, CIFAR-10 Batch 1:  Loss:     0.3271 Validation Accuracy: 0.850000\n",
      "Epoch 90, CIFAR-10 Batch 1:  Loss:     0.3232 Validation Accuracy: 0.875000\n",
      "Epoch 91, CIFAR-10 Batch 1:  Loss:     0.2737 Validation Accuracy: 0.925000\n",
      "Epoch 92, CIFAR-10 Batch 1:  Loss:     0.2757 Validation Accuracy: 0.875000\n",
      "Epoch 93, CIFAR-10 Batch 1:  Loss:     0.2583 Validation Accuracy: 0.875000\n",
      "Epoch 94, CIFAR-10 Batch 1:  Loss:     0.2660 Validation Accuracy: 0.875000\n",
      "Epoch 95, CIFAR-10 Batch 1:  Loss:     0.2953 Validation Accuracy: 0.875000\n",
      "Epoch 96, CIFAR-10 Batch 1:  Loss:     0.2710 Validation Accuracy: 0.900000\n",
      "Epoch 97, CIFAR-10 Batch 1:  Loss:     0.1986 Validation Accuracy: 0.950000\n",
      "Epoch 98, CIFAR-10 Batch 1:  Loss:     0.2239 Validation Accuracy: 0.900000\n",
      "Epoch 99, CIFAR-10 Batch 1:  Loss:     0.1849 Validation Accuracy: 0.950000\n",
      "Epoch 100, CIFAR-10 Batch 1:  Loss:     0.1884 Validation Accuracy: 0.950000\n"
     ]
    }
   ],
   "source": [
    "\"\"\"\n",
    "DON'T MODIFY ANYTHING IN THIS CELL\n",
    "\"\"\"\n",
    "print('Checking the Training on a Single Batch...')\n",
    "with tf.Session() as sess:\n",
    "    # Initializing the variables\n",
    "    sess.run(tf.global_variables_initializer())\n",
    "    \n",
    "    # Training cycle\n",
    "    for epoch in range(epochs):\n",
    "        batch_i = 1\n",
    "        for batch_features, batch_labels in helper.load_preprocess_training_batch(batch_i, batch_size):\n",
    "            train_neural_network(sess, optimizer, keep_probability, batch_features, batch_labels)\n",
    "        print('Epoch {:>2}, CIFAR-10 Batch {}:  '.format(epoch + 1, batch_i), end='')\n",
    "        print_stats(sess, batch_features, batch_labels, cost, accuracy)"
   ]
  },
  {
   "cell_type": "markdown",
   "metadata": {
    "deletable": true,
    "editable": true
   },
   "source": [
    "### Fully Train the Model\n",
    "Now that you got a good accuracy with a single CIFAR-10 batch, try it with all five batches."
   ]
  },
  {
   "cell_type": "code",
   "execution_count": 27,
   "metadata": {
    "collapsed": false,
    "deletable": true,
    "editable": true
   },
   "outputs": [
    {
     "name": "stdout",
     "output_type": "stream",
     "text": [
      "Training...\n",
      "Epoch  1, CIFAR-10 Batch 1:  Loss:     2.1512 Validation Accuracy: 0.225000\n",
      "Epoch  1, CIFAR-10 Batch 2:  Loss:     1.7217 Validation Accuracy: 0.375000\n",
      "Epoch  1, CIFAR-10 Batch 3:  Loss:     1.4979 Validation Accuracy: 0.400000\n",
      "Epoch  1, CIFAR-10 Batch 4:  Loss:     1.6371 Validation Accuracy: 0.400000\n",
      "Epoch  1, CIFAR-10 Batch 5:  Loss:     1.4452 Validation Accuracy: 0.525000\n",
      "Epoch  2, CIFAR-10 Batch 1:  Loss:     1.7206 Validation Accuracy: 0.450000\n",
      "Epoch  2, CIFAR-10 Batch 2:  Loss:     1.3670 Validation Accuracy: 0.475000\n",
      "Epoch  2, CIFAR-10 Batch 3:  Loss:     1.1661 Validation Accuracy: 0.625000\n",
      "Epoch  2, CIFAR-10 Batch 4:  Loss:     1.4611 Validation Accuracy: 0.450000\n",
      "Epoch  2, CIFAR-10 Batch 5:  Loss:     1.3147 Validation Accuracy: 0.525000\n",
      "Epoch  3, CIFAR-10 Batch 1:  Loss:     1.5615 Validation Accuracy: 0.500000\n",
      "Epoch  3, CIFAR-10 Batch 2:  Loss:     1.2793 Validation Accuracy: 0.500000\n",
      "Epoch  3, CIFAR-10 Batch 3:  Loss:     1.1005 Validation Accuracy: 0.600000\n",
      "Epoch  3, CIFAR-10 Batch 4:  Loss:     1.3556 Validation Accuracy: 0.525000\n",
      "Epoch  3, CIFAR-10 Batch 5:  Loss:     1.1723 Validation Accuracy: 0.575000\n",
      "Epoch  4, CIFAR-10 Batch 1:  Loss:     1.3874 Validation Accuracy: 0.500000\n",
      "Epoch  4, CIFAR-10 Batch 2:  Loss:     1.1962 Validation Accuracy: 0.600000\n",
      "Epoch  4, CIFAR-10 Batch 3:  Loss:     1.0295 Validation Accuracy: 0.675000\n",
      "Epoch  4, CIFAR-10 Batch 4:  Loss:     1.2928 Validation Accuracy: 0.575000\n",
      "Epoch  4, CIFAR-10 Batch 5:  Loss:     1.0534 Validation Accuracy: 0.600000\n",
      "Epoch  5, CIFAR-10 Batch 1:  Loss:     1.2709 Validation Accuracy: 0.500000\n",
      "Epoch  5, CIFAR-10 Batch 2:  Loss:     1.1461 Validation Accuracy: 0.550000\n",
      "Epoch  5, CIFAR-10 Batch 3:  Loss:     1.0053 Validation Accuracy: 0.700000\n",
      "Epoch  5, CIFAR-10 Batch 4:  Loss:     1.2050 Validation Accuracy: 0.575000\n",
      "Epoch  5, CIFAR-10 Batch 5:  Loss:     1.0094 Validation Accuracy: 0.600000\n",
      "Epoch  6, CIFAR-10 Batch 1:  Loss:     1.2147 Validation Accuracy: 0.500000\n",
      "Epoch  6, CIFAR-10 Batch 2:  Loss:     1.0896 Validation Accuracy: 0.575000\n",
      "Epoch  6, CIFAR-10 Batch 3:  Loss:     0.9618 Validation Accuracy: 0.700000\n",
      "Epoch  6, CIFAR-10 Batch 4:  Loss:     1.1323 Validation Accuracy: 0.625000\n",
      "Epoch  6, CIFAR-10 Batch 5:  Loss:     0.9765 Validation Accuracy: 0.700000\n",
      "Epoch  7, CIFAR-10 Batch 1:  Loss:     1.1859 Validation Accuracy: 0.550000\n",
      "Epoch  7, CIFAR-10 Batch 2:  Loss:     0.9858 Validation Accuracy: 0.650000\n",
      "Epoch  7, CIFAR-10 Batch 3:  Loss:     0.9380 Validation Accuracy: 0.675000\n",
      "Epoch  7, CIFAR-10 Batch 4:  Loss:     1.0832 Validation Accuracy: 0.650000\n",
      "Epoch  7, CIFAR-10 Batch 5:  Loss:     0.9419 Validation Accuracy: 0.725000\n",
      "Epoch  8, CIFAR-10 Batch 1:  Loss:     1.2117 Validation Accuracy: 0.550000\n",
      "Epoch  8, CIFAR-10 Batch 2:  Loss:     0.9621 Validation Accuracy: 0.625000\n",
      "Epoch  8, CIFAR-10 Batch 3:  Loss:     0.9055 Validation Accuracy: 0.675000\n",
      "Epoch  8, CIFAR-10 Batch 4:  Loss:     1.0538 Validation Accuracy: 0.675000\n",
      "Epoch  8, CIFAR-10 Batch 5:  Loss:     0.9454 Validation Accuracy: 0.700000\n",
      "Epoch  9, CIFAR-10 Batch 1:  Loss:     1.0804 Validation Accuracy: 0.625000\n",
      "Epoch  9, CIFAR-10 Batch 2:  Loss:     0.9130 Validation Accuracy: 0.700000\n",
      "Epoch  9, CIFAR-10 Batch 3:  Loss:     0.8783 Validation Accuracy: 0.675000\n",
      "Epoch  9, CIFAR-10 Batch 4:  Loss:     1.0237 Validation Accuracy: 0.650000\n",
      "Epoch  9, CIFAR-10 Batch 5:  Loss:     0.9166 Validation Accuracy: 0.750000\n",
      "Epoch 10, CIFAR-10 Batch 1:  Loss:     1.0822 Validation Accuracy: 0.625000\n",
      "Epoch 10, CIFAR-10 Batch 2:  Loss:     0.8930 Validation Accuracy: 0.700000\n",
      "Epoch 10, CIFAR-10 Batch 3:  Loss:     0.8550 Validation Accuracy: 0.675000\n",
      "Epoch 10, CIFAR-10 Batch 4:  Loss:     1.0234 Validation Accuracy: 0.600000\n",
      "Epoch 10, CIFAR-10 Batch 5:  Loss:     0.8943 Validation Accuracy: 0.725000\n",
      "Epoch 11, CIFAR-10 Batch 1:  Loss:     1.0589 Validation Accuracy: 0.625000\n",
      "Epoch 11, CIFAR-10 Batch 2:  Loss:     0.8983 Validation Accuracy: 0.650000\n",
      "Epoch 11, CIFAR-10 Batch 3:  Loss:     0.8336 Validation Accuracy: 0.725000\n",
      "Epoch 11, CIFAR-10 Batch 4:  Loss:     0.9802 Validation Accuracy: 0.625000\n",
      "Epoch 11, CIFAR-10 Batch 5:  Loss:     0.8664 Validation Accuracy: 0.775000\n",
      "Epoch 12, CIFAR-10 Batch 1:  Loss:     1.0332 Validation Accuracy: 0.675000\n",
      "Epoch 12, CIFAR-10 Batch 2:  Loss:     0.8988 Validation Accuracy: 0.675000\n",
      "Epoch 12, CIFAR-10 Batch 3:  Loss:     0.8187 Validation Accuracy: 0.650000\n",
      "Epoch 12, CIFAR-10 Batch 4:  Loss:     0.9141 Validation Accuracy: 0.650000\n",
      "Epoch 12, CIFAR-10 Batch 5:  Loss:     0.8615 Validation Accuracy: 0.750000\n",
      "Epoch 13, CIFAR-10 Batch 1:  Loss:     1.0657 Validation Accuracy: 0.625000\n",
      "Epoch 13, CIFAR-10 Batch 2:  Loss:     0.8401 Validation Accuracy: 0.675000\n",
      "Epoch 13, CIFAR-10 Batch 3:  Loss:     0.7727 Validation Accuracy: 0.750000\n",
      "Epoch 13, CIFAR-10 Batch 4:  Loss:     0.8811 Validation Accuracy: 0.650000\n",
      "Epoch 13, CIFAR-10 Batch 5:  Loss:     0.8045 Validation Accuracy: 0.725000\n",
      "Epoch 14, CIFAR-10 Batch 1:  Loss:     1.0551 Validation Accuracy: 0.675000\n",
      "Epoch 14, CIFAR-10 Batch 2:  Loss:     0.8122 Validation Accuracy: 0.700000\n",
      "Epoch 14, CIFAR-10 Batch 3:  Loss:     0.7497 Validation Accuracy: 0.725000\n",
      "Epoch 14, CIFAR-10 Batch 4:  Loss:     0.8463 Validation Accuracy: 0.675000\n",
      "Epoch 14, CIFAR-10 Batch 5:  Loss:     0.7913 Validation Accuracy: 0.750000\n",
      "Epoch 15, CIFAR-10 Batch 1:  Loss:     0.9890 Validation Accuracy: 0.650000\n",
      "Epoch 15, CIFAR-10 Batch 2:  Loss:     0.8272 Validation Accuracy: 0.650000\n",
      "Epoch 15, CIFAR-10 Batch 3:  Loss:     0.7594 Validation Accuracy: 0.750000\n",
      "Epoch 15, CIFAR-10 Batch 4:  Loss:     0.7988 Validation Accuracy: 0.700000\n",
      "Epoch 15, CIFAR-10 Batch 5:  Loss:     0.7873 Validation Accuracy: 0.725000\n",
      "Epoch 16, CIFAR-10 Batch 1:  Loss:     1.0201 Validation Accuracy: 0.675000\n",
      "Epoch 16, CIFAR-10 Batch 2:  Loss:     0.7938 Validation Accuracy: 0.700000\n",
      "Epoch 16, CIFAR-10 Batch 3:  Loss:     0.7205 Validation Accuracy: 0.700000\n",
      "Epoch 16, CIFAR-10 Batch 4:  Loss:     0.7815 Validation Accuracy: 0.675000\n",
      "Epoch 16, CIFAR-10 Batch 5:  Loss:     0.7822 Validation Accuracy: 0.750000\n",
      "Epoch 17, CIFAR-10 Batch 1:  Loss:     0.9688 Validation Accuracy: 0.675000\n",
      "Epoch 17, CIFAR-10 Batch 2:  Loss:     0.7761 Validation Accuracy: 0.675000\n",
      "Epoch 17, CIFAR-10 Batch 3:  Loss:     0.6979 Validation Accuracy: 0.725000\n",
      "Epoch 17, CIFAR-10 Batch 4:  Loss:     0.7607 Validation Accuracy: 0.750000\n",
      "Epoch 17, CIFAR-10 Batch 5:  Loss:     0.7545 Validation Accuracy: 0.725000\n",
      "Epoch 18, CIFAR-10 Batch 1:  Loss:     0.9868 Validation Accuracy: 0.700000\n",
      "Epoch 18, CIFAR-10 Batch 2:  Loss:     0.7804 Validation Accuracy: 0.700000\n",
      "Epoch 18, CIFAR-10 Batch 3:  Loss:     0.6726 Validation Accuracy: 0.775000\n",
      "Epoch 18, CIFAR-10 Batch 4:  Loss:     0.7402 Validation Accuracy: 0.725000\n",
      "Epoch 18, CIFAR-10 Batch 5:  Loss:     0.7299 Validation Accuracy: 0.750000\n",
      "Epoch 19, CIFAR-10 Batch 1:  Loss:     0.9026 Validation Accuracy: 0.725000\n",
      "Epoch 19, CIFAR-10 Batch 2:  Loss:     0.7456 Validation Accuracy: 0.700000\n",
      "Epoch 19, CIFAR-10 Batch 3:  Loss:     0.6833 Validation Accuracy: 0.725000\n",
      "Epoch 19, CIFAR-10 Batch 4:  Loss:     0.6931 Validation Accuracy: 0.800000\n",
      "Epoch 19, CIFAR-10 Batch 5:  Loss:     0.7393 Validation Accuracy: 0.775000\n",
      "Epoch 20, CIFAR-10 Batch 1:  Loss:     0.8965 Validation Accuracy: 0.750000\n",
      "Epoch 20, CIFAR-10 Batch 2:  Loss:     0.7625 Validation Accuracy: 0.700000\n",
      "Epoch 20, CIFAR-10 Batch 3:  Loss:     0.6278 Validation Accuracy: 0.750000\n",
      "Epoch 20, CIFAR-10 Batch 4:  Loss:     0.7034 Validation Accuracy: 0.750000\n",
      "Epoch 20, CIFAR-10 Batch 5:  Loss:     0.7091 Validation Accuracy: 0.775000\n",
      "Epoch 21, CIFAR-10 Batch 1:  Loss:     0.8745 Validation Accuracy: 0.675000\n",
      "Epoch 21, CIFAR-10 Batch 2:  Loss:     0.7438 Validation Accuracy: 0.700000\n",
      "Epoch 21, CIFAR-10 Batch 3:  Loss:     0.6291 Validation Accuracy: 0.800000\n",
      "Epoch 21, CIFAR-10 Batch 4:  Loss:     0.6730 Validation Accuracy: 0.800000\n",
      "Epoch 21, CIFAR-10 Batch 5:  Loss:     0.6971 Validation Accuracy: 0.800000\n",
      "Epoch 22, CIFAR-10 Batch 1:  Loss:     0.8259 Validation Accuracy: 0.725000\n",
      "Epoch 22, CIFAR-10 Batch 2:  Loss:     0.7252 Validation Accuracy: 0.725000\n",
      "Epoch 22, CIFAR-10 Batch 3:  Loss:     0.6615 Validation Accuracy: 0.775000\n",
      "Epoch 22, CIFAR-10 Batch 4:  Loss:     0.6585 Validation Accuracy: 0.775000\n",
      "Epoch 22, CIFAR-10 Batch 5:  Loss:     0.7093 Validation Accuracy: 0.775000\n",
      "Epoch 23, CIFAR-10 Batch 1:  Loss:     0.8058 Validation Accuracy: 0.775000\n",
      "Epoch 23, CIFAR-10 Batch 2:  Loss:     0.6924 Validation Accuracy: 0.725000\n",
      "Epoch 23, CIFAR-10 Batch 3:  Loss:     0.6531 Validation Accuracy: 0.750000\n",
      "Epoch 23, CIFAR-10 Batch 4:  Loss:     0.6373 Validation Accuracy: 0.775000\n",
      "Epoch 23, CIFAR-10 Batch 5:  Loss:     0.6993 Validation Accuracy: 0.800000\n",
      "Epoch 24, CIFAR-10 Batch 1:  Loss:     0.7724 Validation Accuracy: 0.750000\n",
      "Epoch 24, CIFAR-10 Batch 2:  Loss:     0.6615 Validation Accuracy: 0.700000\n",
      "Epoch 24, CIFAR-10 Batch 3:  Loss:     0.6377 Validation Accuracy: 0.775000\n",
      "Epoch 24, CIFAR-10 Batch 4:  Loss:     0.6474 Validation Accuracy: 0.825000\n",
      "Epoch 24, CIFAR-10 Batch 5:  Loss:     0.6771 Validation Accuracy: 0.775000\n",
      "Epoch 25, CIFAR-10 Batch 1:  Loss:     0.7812 Validation Accuracy: 0.775000\n",
      "Epoch 25, CIFAR-10 Batch 2:  Loss:     0.6994 Validation Accuracy: 0.700000\n",
      "Epoch 25, CIFAR-10 Batch 3:  Loss:     0.5927 Validation Accuracy: 0.800000\n",
      "Epoch 25, CIFAR-10 Batch 4:  Loss:     0.6622 Validation Accuracy: 0.800000\n",
      "Epoch 25, CIFAR-10 Batch 5:  Loss:     0.6742 Validation Accuracy: 0.775000\n",
      "Epoch 26, CIFAR-10 Batch 1:  Loss:     0.7125 Validation Accuracy: 0.775000\n",
      "Epoch 26, CIFAR-10 Batch 2:  Loss:     0.6840 Validation Accuracy: 0.700000\n",
      "Epoch 26, CIFAR-10 Batch 3:  Loss:     0.6225 Validation Accuracy: 0.775000\n",
      "Epoch 26, CIFAR-10 Batch 4:  Loss:     0.6283 Validation Accuracy: 0.825000\n",
      "Epoch 26, CIFAR-10 Batch 5:  Loss:     0.6526 Validation Accuracy: 0.775000\n",
      "Epoch 27, CIFAR-10 Batch 1:  Loss:     0.7421 Validation Accuracy: 0.750000\n",
      "Epoch 27, CIFAR-10 Batch 2:  Loss:     0.6454 Validation Accuracy: 0.725000\n",
      "Epoch 27, CIFAR-10 Batch 3:  Loss:     0.6239 Validation Accuracy: 0.725000\n",
      "Epoch 27, CIFAR-10 Batch 4:  Loss:     0.6109 Validation Accuracy: 0.775000\n",
      "Epoch 27, CIFAR-10 Batch 5:  Loss:     0.6254 Validation Accuracy: 0.825000\n",
      "Epoch 28, CIFAR-10 Batch 1:  Loss:     0.7743 Validation Accuracy: 0.725000\n",
      "Epoch 28, CIFAR-10 Batch 2:  Loss:     0.6722 Validation Accuracy: 0.725000\n",
      "Epoch 28, CIFAR-10 Batch 3:  Loss:     0.5961 Validation Accuracy: 0.750000\n",
      "Epoch 28, CIFAR-10 Batch 4:  Loss:     0.6289 Validation Accuracy: 0.825000\n",
      "Epoch 28, CIFAR-10 Batch 5:  Loss:     0.6806 Validation Accuracy: 0.775000\n",
      "Epoch 29, CIFAR-10 Batch 1:  Loss:     0.7178 Validation Accuracy: 0.725000\n",
      "Epoch 29, CIFAR-10 Batch 2:  Loss:     0.6547 Validation Accuracy: 0.725000\n",
      "Epoch 29, CIFAR-10 Batch 3:  Loss:     0.6091 Validation Accuracy: 0.750000\n",
      "Epoch 29, CIFAR-10 Batch 4:  Loss:     0.5720 Validation Accuracy: 0.825000\n",
      "Epoch 29, CIFAR-10 Batch 5:  Loss:     0.6452 Validation Accuracy: 0.825000\n",
      "Epoch 30, CIFAR-10 Batch 1:  Loss:     0.7489 Validation Accuracy: 0.725000\n",
      "Epoch 30, CIFAR-10 Batch 2:  Loss:     0.6722 Validation Accuracy: 0.725000\n",
      "Epoch 30, CIFAR-10 Batch 3:  Loss:     0.5920 Validation Accuracy: 0.825000\n",
      "Epoch 30, CIFAR-10 Batch 4:  Loss:     0.6166 Validation Accuracy: 0.825000\n",
      "Epoch 30, CIFAR-10 Batch 5:  Loss:     0.6765 Validation Accuracy: 0.825000\n",
      "Epoch 31, CIFAR-10 Batch 1:  Loss:     0.6646 Validation Accuracy: 0.750000\n",
      "Epoch 31, CIFAR-10 Batch 2:  Loss:     0.6033 Validation Accuracy: 0.775000\n",
      "Epoch 31, CIFAR-10 Batch 3:  Loss:     0.5482 Validation Accuracy: 0.800000\n",
      "Epoch 31, CIFAR-10 Batch 4:  Loss:     0.5556 Validation Accuracy: 0.850000\n",
      "Epoch 31, CIFAR-10 Batch 5:  Loss:     0.6395 Validation Accuracy: 0.850000\n",
      "Epoch 32, CIFAR-10 Batch 1:  Loss:     0.7242 Validation Accuracy: 0.750000\n",
      "Epoch 32, CIFAR-10 Batch 2:  Loss:     0.5868 Validation Accuracy: 0.775000\n",
      "Epoch 32, CIFAR-10 Batch 3:  Loss:     0.5543 Validation Accuracy: 0.825000\n",
      "Epoch 32, CIFAR-10 Batch 4:  Loss:     0.5420 Validation Accuracy: 0.850000\n",
      "Epoch 32, CIFAR-10 Batch 5:  Loss:     0.6480 Validation Accuracy: 0.825000\n",
      "Epoch 33, CIFAR-10 Batch 1:  Loss:     0.6684 Validation Accuracy: 0.800000\n",
      "Epoch 33, CIFAR-10 Batch 2:  Loss:     0.6710 Validation Accuracy: 0.725000\n",
      "Epoch 33, CIFAR-10 Batch 3:  Loss:     0.5782 Validation Accuracy: 0.775000\n",
      "Epoch 33, CIFAR-10 Batch 4:  Loss:     0.5547 Validation Accuracy: 0.875000\n",
      "Epoch 33, CIFAR-10 Batch 5:  Loss:     0.6282 Validation Accuracy: 0.800000\n",
      "Epoch 34, CIFAR-10 Batch 1:  Loss:     0.7041 Validation Accuracy: 0.775000\n",
      "Epoch 34, CIFAR-10 Batch 2:  Loss:     0.6030 Validation Accuracy: 0.750000\n",
      "Epoch 34, CIFAR-10 Batch 3:  Loss:     0.5372 Validation Accuracy: 0.825000\n",
      "Epoch 34, CIFAR-10 Batch 4:  Loss:     0.5338 Validation Accuracy: 0.875000\n",
      "Epoch 34, CIFAR-10 Batch 5:  Loss:     0.6418 Validation Accuracy: 0.825000\n",
      "Epoch 35, CIFAR-10 Batch 1:  Loss:     0.6490 Validation Accuracy: 0.800000\n",
      "Epoch 35, CIFAR-10 Batch 2:  Loss:     0.5425 Validation Accuracy: 0.775000\n",
      "Epoch 35, CIFAR-10 Batch 3:  Loss:     0.5182 Validation Accuracy: 0.850000\n",
      "Epoch 35, CIFAR-10 Batch 4:  Loss:     0.5579 Validation Accuracy: 0.875000\n",
      "Epoch 35, CIFAR-10 Batch 5:  Loss:     0.6425 Validation Accuracy: 0.800000\n",
      "Epoch 36, CIFAR-10 Batch 1:  Loss:     0.6450 Validation Accuracy: 0.775000\n",
      "Epoch 36, CIFAR-10 Batch 2:  Loss:     0.5851 Validation Accuracy: 0.800000\n",
      "Epoch 36, CIFAR-10 Batch 3:  Loss:     0.5061 Validation Accuracy: 0.825000\n",
      "Epoch 36, CIFAR-10 Batch 4:  Loss:     0.5483 Validation Accuracy: 0.875000\n",
      "Epoch 36, CIFAR-10 Batch 5:  Loss:     0.6055 Validation Accuracy: 0.800000\n",
      "Epoch 37, CIFAR-10 Batch 1:  Loss:     0.6033 Validation Accuracy: 0.800000\n",
      "Epoch 37, CIFAR-10 Batch 2:  Loss:     0.5580 Validation Accuracy: 0.775000\n",
      "Epoch 37, CIFAR-10 Batch 3:  Loss:     0.4911 Validation Accuracy: 0.850000\n",
      "Epoch 37, CIFAR-10 Batch 4:  Loss:     0.5521 Validation Accuracy: 0.875000\n",
      "Epoch 37, CIFAR-10 Batch 5:  Loss:     0.5775 Validation Accuracy: 0.825000\n",
      "Epoch 38, CIFAR-10 Batch 1:  Loss:     0.6656 Validation Accuracy: 0.775000\n",
      "Epoch 38, CIFAR-10 Batch 2:  Loss:     0.5194 Validation Accuracy: 0.825000\n",
      "Epoch 38, CIFAR-10 Batch 3:  Loss:     0.5005 Validation Accuracy: 0.875000\n",
      "Epoch 38, CIFAR-10 Batch 4:  Loss:     0.5276 Validation Accuracy: 0.875000\n",
      "Epoch 38, CIFAR-10 Batch 5:  Loss:     0.6795 Validation Accuracy: 0.850000\n",
      "Epoch 39, CIFAR-10 Batch 1:  Loss:     0.6484 Validation Accuracy: 0.750000\n",
      "Epoch 39, CIFAR-10 Batch 2:  Loss:     0.5235 Validation Accuracy: 0.825000\n",
      "Epoch 39, CIFAR-10 Batch 3:  Loss:     0.5209 Validation Accuracy: 0.825000\n",
      "Epoch 39, CIFAR-10 Batch 4:  Loss:     0.4994 Validation Accuracy: 0.900000\n",
      "Epoch 39, CIFAR-10 Batch 5:  Loss:     0.5783 Validation Accuracy: 0.850000\n",
      "Epoch 40, CIFAR-10 Batch 1:  Loss:     0.6003 Validation Accuracy: 0.825000\n",
      "Epoch 40, CIFAR-10 Batch 2:  Loss:     0.5485 Validation Accuracy: 0.800000\n",
      "Epoch 40, CIFAR-10 Batch 3:  Loss:     0.4869 Validation Accuracy: 0.850000\n",
      "Epoch 40, CIFAR-10 Batch 4:  Loss:     0.5111 Validation Accuracy: 0.900000\n",
      "Epoch 40, CIFAR-10 Batch 5:  Loss:     0.5560 Validation Accuracy: 0.875000\n",
      "Epoch 41, CIFAR-10 Batch 1:  Loss:     0.5988 Validation Accuracy: 0.800000\n",
      "Epoch 41, CIFAR-10 Batch 2:  Loss:     0.5416 Validation Accuracy: 0.775000\n",
      "Epoch 41, CIFAR-10 Batch 3:  Loss:     0.4866 Validation Accuracy: 0.825000\n",
      "Epoch 41, CIFAR-10 Batch 4:  Loss:     0.5025 Validation Accuracy: 0.875000\n",
      "Epoch 41, CIFAR-10 Batch 5:  Loss:     0.5698 Validation Accuracy: 0.850000\n",
      "Epoch 42, CIFAR-10 Batch 1:  Loss:     0.5778 Validation Accuracy: 0.775000\n",
      "Epoch 42, CIFAR-10 Batch 2:  Loss:     0.5223 Validation Accuracy: 0.800000\n",
      "Epoch 42, CIFAR-10 Batch 3:  Loss:     0.4595 Validation Accuracy: 0.850000\n",
      "Epoch 42, CIFAR-10 Batch 4:  Loss:     0.4983 Validation Accuracy: 0.900000\n",
      "Epoch 42, CIFAR-10 Batch 5:  Loss:     0.5705 Validation Accuracy: 0.875000\n",
      "Epoch 43, CIFAR-10 Batch 1:  Loss:     0.5927 Validation Accuracy: 0.800000\n",
      "Epoch 43, CIFAR-10 Batch 2:  Loss:     0.5255 Validation Accuracy: 0.825000\n",
      "Epoch 43, CIFAR-10 Batch 3:  Loss:     0.4825 Validation Accuracy: 0.850000\n",
      "Epoch 43, CIFAR-10 Batch 4:  Loss:     0.5430 Validation Accuracy: 0.900000\n",
      "Epoch 43, CIFAR-10 Batch 5:  Loss:     0.5389 Validation Accuracy: 0.850000\n",
      "Epoch 44, CIFAR-10 Batch 1:  Loss:     0.6062 Validation Accuracy: 0.775000\n",
      "Epoch 44, CIFAR-10 Batch 2:  Loss:     0.4773 Validation Accuracy: 0.800000\n",
      "Epoch 44, CIFAR-10 Batch 3:  Loss:     0.4618 Validation Accuracy: 0.875000\n",
      "Epoch 44, CIFAR-10 Batch 4:  Loss:     0.4923 Validation Accuracy: 0.900000\n",
      "Epoch 44, CIFAR-10 Batch 5:  Loss:     0.5692 Validation Accuracy: 0.800000\n",
      "Epoch 45, CIFAR-10 Batch 1:  Loss:     0.5497 Validation Accuracy: 0.825000\n",
      "Epoch 45, CIFAR-10 Batch 2:  Loss:     0.4424 Validation Accuracy: 0.875000\n",
      "Epoch 45, CIFAR-10 Batch 3:  Loss:     0.4491 Validation Accuracy: 0.850000\n",
      "Epoch 45, CIFAR-10 Batch 4:  Loss:     0.4836 Validation Accuracy: 0.900000\n",
      "Epoch 45, CIFAR-10 Batch 5:  Loss:     0.5483 Validation Accuracy: 0.850000\n",
      "Epoch 46, CIFAR-10 Batch 1:  Loss:     0.5480 Validation Accuracy: 0.775000\n",
      "Epoch 46, CIFAR-10 Batch 2:  Loss:     0.4778 Validation Accuracy: 0.800000\n",
      "Epoch 46, CIFAR-10 Batch 3:  Loss:     0.4919 Validation Accuracy: 0.850000\n",
      "Epoch 46, CIFAR-10 Batch 4:  Loss:     0.5131 Validation Accuracy: 0.875000\n",
      "Epoch 46, CIFAR-10 Batch 5:  Loss:     0.5760 Validation Accuracy: 0.825000\n",
      "Epoch 47, CIFAR-10 Batch 1:  Loss:     0.5801 Validation Accuracy: 0.800000\n",
      "Epoch 47, CIFAR-10 Batch 2:  Loss:     0.4541 Validation Accuracy: 0.775000\n",
      "Epoch 47, CIFAR-10 Batch 3:  Loss:     0.4705 Validation Accuracy: 0.850000\n",
      "Epoch 47, CIFAR-10 Batch 4:  Loss:     0.4969 Validation Accuracy: 0.875000\n",
      "Epoch 47, CIFAR-10 Batch 5:  Loss:     0.5386 Validation Accuracy: 0.875000\n",
      "Epoch 48, CIFAR-10 Batch 1:  Loss:     0.5661 Validation Accuracy: 0.800000\n",
      "Epoch 48, CIFAR-10 Batch 2:  Loss:     0.4634 Validation Accuracy: 0.775000\n",
      "Epoch 48, CIFAR-10 Batch 3:  Loss:     0.4806 Validation Accuracy: 0.800000\n",
      "Epoch 48, CIFAR-10 Batch 4:  Loss:     0.5007 Validation Accuracy: 0.900000\n",
      "Epoch 48, CIFAR-10 Batch 5:  Loss:     0.5200 Validation Accuracy: 0.875000\n",
      "Epoch 49, CIFAR-10 Batch 1:  Loss:     0.5209 Validation Accuracy: 0.800000\n",
      "Epoch 49, CIFAR-10 Batch 2:  Loss:     0.4842 Validation Accuracy: 0.850000\n",
      "Epoch 49, CIFAR-10 Batch 3:  Loss:     0.4563 Validation Accuracy: 0.800000\n",
      "Epoch 49, CIFAR-10 Batch 4:  Loss:     0.4822 Validation Accuracy: 0.900000\n",
      "Epoch 49, CIFAR-10 Batch 5:  Loss:     0.5089 Validation Accuracy: 0.850000\n",
      "Epoch 50, CIFAR-10 Batch 1:  Loss:     0.5756 Validation Accuracy: 0.800000\n",
      "Epoch 50, CIFAR-10 Batch 2:  Loss:     0.4539 Validation Accuracy: 0.800000\n",
      "Epoch 50, CIFAR-10 Batch 3:  Loss:     0.4349 Validation Accuracy: 0.850000\n",
      "Epoch 50, CIFAR-10 Batch 4:  Loss:     0.4695 Validation Accuracy: 0.925000\n",
      "Epoch 50, CIFAR-10 Batch 5:  Loss:     0.5205 Validation Accuracy: 0.850000\n",
      "Epoch 51, CIFAR-10 Batch 1:  Loss:     0.5098 Validation Accuracy: 0.800000\n",
      "Epoch 51, CIFAR-10 Batch 2:  Loss:     0.4660 Validation Accuracy: 0.775000\n",
      "Epoch 51, CIFAR-10 Batch 3:  Loss:     0.4628 Validation Accuracy: 0.850000\n",
      "Epoch 51, CIFAR-10 Batch 4:  Loss:     0.4880 Validation Accuracy: 0.900000\n",
      "Epoch 51, CIFAR-10 Batch 5:  Loss:     0.5399 Validation Accuracy: 0.850000\n",
      "Epoch 52, CIFAR-10 Batch 1:  Loss:     0.4898 Validation Accuracy: 0.825000\n",
      "Epoch 52, CIFAR-10 Batch 2:  Loss:     0.4576 Validation Accuracy: 0.800000\n",
      "Epoch 52, CIFAR-10 Batch 3:  Loss:     0.4602 Validation Accuracy: 0.900000\n",
      "Epoch 52, CIFAR-10 Batch 4:  Loss:     0.4791 Validation Accuracy: 0.875000\n",
      "Epoch 52, CIFAR-10 Batch 5:  Loss:     0.5000 Validation Accuracy: 0.850000\n",
      "Epoch 53, CIFAR-10 Batch 1:  Loss:     0.5038 Validation Accuracy: 0.800000\n",
      "Epoch 53, CIFAR-10 Batch 2:  Loss:     0.4067 Validation Accuracy: 0.850000\n",
      "Epoch 53, CIFAR-10 Batch 3:  Loss:     0.4389 Validation Accuracy: 0.850000\n",
      "Epoch 53, CIFAR-10 Batch 4:  Loss:     0.4897 Validation Accuracy: 0.875000\n",
      "Epoch 53, CIFAR-10 Batch 5:  Loss:     0.5263 Validation Accuracy: 0.800000\n",
      "Epoch 54, CIFAR-10 Batch 1:  Loss:     0.5422 Validation Accuracy: 0.800000\n",
      "Epoch 54, CIFAR-10 Batch 2:  Loss:     0.4145 Validation Accuracy: 0.825000\n",
      "Epoch 54, CIFAR-10 Batch 3:  Loss:     0.4079 Validation Accuracy: 0.900000\n",
      "Epoch 54, CIFAR-10 Batch 4:  Loss:     0.4986 Validation Accuracy: 0.900000\n",
      "Epoch 54, CIFAR-10 Batch 5:  Loss:     0.4691 Validation Accuracy: 0.900000\n",
      "Epoch 55, CIFAR-10 Batch 1:  Loss:     0.5188 Validation Accuracy: 0.825000\n",
      "Epoch 55, CIFAR-10 Batch 2:  Loss:     0.4033 Validation Accuracy: 0.825000\n",
      "Epoch 55, CIFAR-10 Batch 3:  Loss:     0.4358 Validation Accuracy: 0.900000\n",
      "Epoch 55, CIFAR-10 Batch 4:  Loss:     0.4793 Validation Accuracy: 0.925000\n",
      "Epoch 55, CIFAR-10 Batch 5:  Loss:     0.5025 Validation Accuracy: 0.900000\n",
      "Epoch 56, CIFAR-10 Batch 1:  Loss:     0.4768 Validation Accuracy: 0.800000\n",
      "Epoch 56, CIFAR-10 Batch 2:  Loss:     0.3691 Validation Accuracy: 0.925000\n",
      "Epoch 56, CIFAR-10 Batch 3:  Loss:     0.3993 Validation Accuracy: 0.925000\n",
      "Epoch 56, CIFAR-10 Batch 4:  Loss:     0.4732 Validation Accuracy: 0.875000\n",
      "Epoch 56, CIFAR-10 Batch 5:  Loss:     0.5269 Validation Accuracy: 0.850000\n",
      "Epoch 57, CIFAR-10 Batch 1:  Loss:     0.5030 Validation Accuracy: 0.825000\n",
      "Epoch 57, CIFAR-10 Batch 2:  Loss:     0.4334 Validation Accuracy: 0.825000\n",
      "Epoch 57, CIFAR-10 Batch 3:  Loss:     0.4194 Validation Accuracy: 0.825000\n",
      "Epoch 57, CIFAR-10 Batch 4:  Loss:     0.4624 Validation Accuracy: 0.900000\n",
      "Epoch 57, CIFAR-10 Batch 5:  Loss:     0.5063 Validation Accuracy: 0.875000\n",
      "Epoch 58, CIFAR-10 Batch 1:  Loss:     0.4837 Validation Accuracy: 0.825000\n",
      "Epoch 58, CIFAR-10 Batch 2:  Loss:     0.4173 Validation Accuracy: 0.850000\n",
      "Epoch 58, CIFAR-10 Batch 3:  Loss:     0.4344 Validation Accuracy: 0.850000\n",
      "Epoch 58, CIFAR-10 Batch 4:  Loss:     0.4619 Validation Accuracy: 0.875000\n",
      "Epoch 58, CIFAR-10 Batch 5:  Loss:     0.5137 Validation Accuracy: 0.850000\n",
      "Epoch 59, CIFAR-10 Batch 1:  Loss:     0.4417 Validation Accuracy: 0.825000\n",
      "Epoch 59, CIFAR-10 Batch 2:  Loss:     0.4136 Validation Accuracy: 0.850000\n",
      "Epoch 59, CIFAR-10 Batch 3:  Loss:     0.4457 Validation Accuracy: 0.800000\n",
      "Epoch 59, CIFAR-10 Batch 4:  Loss:     0.4707 Validation Accuracy: 0.875000\n",
      "Epoch 59, CIFAR-10 Batch 5:  Loss:     0.4714 Validation Accuracy: 0.900000\n",
      "Epoch 60, CIFAR-10 Batch 1:  Loss:     0.4169 Validation Accuracy: 0.900000\n",
      "Epoch 60, CIFAR-10 Batch 2:  Loss:     0.4055 Validation Accuracy: 0.850000\n",
      "Epoch 60, CIFAR-10 Batch 3:  Loss:     0.3963 Validation Accuracy: 0.875000\n",
      "Epoch 60, CIFAR-10 Batch 4:  Loss:     0.4597 Validation Accuracy: 0.900000\n",
      "Epoch 60, CIFAR-10 Batch 5:  Loss:     0.4365 Validation Accuracy: 0.875000\n",
      "Epoch 61, CIFAR-10 Batch 1:  Loss:     0.4741 Validation Accuracy: 0.825000\n",
      "Epoch 61, CIFAR-10 Batch 2:  Loss:     0.3960 Validation Accuracy: 0.875000\n",
      "Epoch 61, CIFAR-10 Batch 3:  Loss:     0.4430 Validation Accuracy: 0.825000\n",
      "Epoch 61, CIFAR-10 Batch 4:  Loss:     0.4756 Validation Accuracy: 0.850000\n",
      "Epoch 61, CIFAR-10 Batch 5:  Loss:     0.4966 Validation Accuracy: 0.875000\n",
      "Epoch 62, CIFAR-10 Batch 1:  Loss:     0.5151 Validation Accuracy: 0.825000\n",
      "Epoch 62, CIFAR-10 Batch 2:  Loss:     0.4084 Validation Accuracy: 0.875000\n",
      "Epoch 62, CIFAR-10 Batch 3:  Loss:     0.3990 Validation Accuracy: 0.850000\n",
      "Epoch 62, CIFAR-10 Batch 4:  Loss:     0.4806 Validation Accuracy: 0.850000\n",
      "Epoch 62, CIFAR-10 Batch 5:  Loss:     0.4933 Validation Accuracy: 0.850000\n",
      "Epoch 63, CIFAR-10 Batch 1:  Loss:     0.4715 Validation Accuracy: 0.800000\n",
      "Epoch 63, CIFAR-10 Batch 2:  Loss:     0.3715 Validation Accuracy: 0.875000\n",
      "Epoch 63, CIFAR-10 Batch 3:  Loss:     0.4506 Validation Accuracy: 0.850000\n",
      "Epoch 63, CIFAR-10 Batch 4:  Loss:     0.4461 Validation Accuracy: 0.900000\n",
      "Epoch 63, CIFAR-10 Batch 5:  Loss:     0.4513 Validation Accuracy: 0.900000\n",
      "Epoch 64, CIFAR-10 Batch 1:  Loss:     0.4834 Validation Accuracy: 0.825000\n",
      "Epoch 64, CIFAR-10 Batch 2:  Loss:     0.4010 Validation Accuracy: 0.800000\n",
      "Epoch 64, CIFAR-10 Batch 3:  Loss:     0.4551 Validation Accuracy: 0.850000\n",
      "Epoch 64, CIFAR-10 Batch 4:  Loss:     0.4222 Validation Accuracy: 0.875000\n",
      "Epoch 64, CIFAR-10 Batch 5:  Loss:     0.4712 Validation Accuracy: 0.875000\n",
      "Epoch 65, CIFAR-10 Batch 1:  Loss:     0.4802 Validation Accuracy: 0.850000\n",
      "Epoch 65, CIFAR-10 Batch 2:  Loss:     0.3898 Validation Accuracy: 0.850000\n",
      "Epoch 65, CIFAR-10 Batch 3:  Loss:     0.4205 Validation Accuracy: 0.875000\n",
      "Epoch 65, CIFAR-10 Batch 4:  Loss:     0.4547 Validation Accuracy: 0.850000\n",
      "Epoch 65, CIFAR-10 Batch 5:  Loss:     0.4667 Validation Accuracy: 0.900000\n",
      "Epoch 66, CIFAR-10 Batch 1:  Loss:     0.5021 Validation Accuracy: 0.825000\n",
      "Epoch 66, CIFAR-10 Batch 2:  Loss:     0.3904 Validation Accuracy: 0.850000\n",
      "Epoch 66, CIFAR-10 Batch 3:  Loss:     0.3681 Validation Accuracy: 0.875000\n",
      "Epoch 66, CIFAR-10 Batch 4:  Loss:     0.4435 Validation Accuracy: 0.875000\n",
      "Epoch 66, CIFAR-10 Batch 5:  Loss:     0.4390 Validation Accuracy: 0.925000\n",
      "Epoch 67, CIFAR-10 Batch 1:  Loss:     0.4497 Validation Accuracy: 0.850000\n",
      "Epoch 67, CIFAR-10 Batch 2:  Loss:     0.3756 Validation Accuracy: 0.850000\n",
      "Epoch 67, CIFAR-10 Batch 3:  Loss:     0.4376 Validation Accuracy: 0.875000\n",
      "Epoch 67, CIFAR-10 Batch 4:  Loss:     0.4211 Validation Accuracy: 0.875000\n",
      "Epoch 67, CIFAR-10 Batch 5:  Loss:     0.4346 Validation Accuracy: 0.925000\n",
      "Epoch 68, CIFAR-10 Batch 1:  Loss:     0.4152 Validation Accuracy: 0.875000\n",
      "Epoch 68, CIFAR-10 Batch 2:  Loss:     0.3747 Validation Accuracy: 0.850000\n",
      "Epoch 68, CIFAR-10 Batch 3:  Loss:     0.3922 Validation Accuracy: 0.850000\n",
      "Epoch 68, CIFAR-10 Batch 4:  Loss:     0.4409 Validation Accuracy: 0.875000\n",
      "Epoch 68, CIFAR-10 Batch 5:  Loss:     0.4465 Validation Accuracy: 0.900000\n",
      "Epoch 69, CIFAR-10 Batch 1:  Loss:     0.4361 Validation Accuracy: 0.850000\n",
      "Epoch 69, CIFAR-10 Batch 2:  Loss:     0.3540 Validation Accuracy: 0.875000\n",
      "Epoch 69, CIFAR-10 Batch 3:  Loss:     0.3972 Validation Accuracy: 0.900000\n",
      "Epoch 69, CIFAR-10 Batch 4:  Loss:     0.4190 Validation Accuracy: 0.900000\n",
      "Epoch 69, CIFAR-10 Batch 5:  Loss:     0.4310 Validation Accuracy: 0.900000\n",
      "Epoch 70, CIFAR-10 Batch 1:  Loss:     0.4473 Validation Accuracy: 0.825000\n",
      "Epoch 70, CIFAR-10 Batch 2:  Loss:     0.3683 Validation Accuracy: 0.900000\n",
      "Epoch 70, CIFAR-10 Batch 3:  Loss:     0.3890 Validation Accuracy: 0.850000\n",
      "Epoch 70, CIFAR-10 Batch 4:  Loss:     0.4130 Validation Accuracy: 0.875000\n",
      "Epoch 70, CIFAR-10 Batch 5:  Loss:     0.4435 Validation Accuracy: 0.925000\n",
      "Epoch 71, CIFAR-10 Batch 1:  Loss:     0.4171 Validation Accuracy: 0.850000\n",
      "Epoch 71, CIFAR-10 Batch 2:  Loss:     0.3464 Validation Accuracy: 0.900000\n",
      "Epoch 71, CIFAR-10 Batch 3:  Loss:     0.4268 Validation Accuracy: 0.850000\n",
      "Epoch 71, CIFAR-10 Batch 4:  Loss:     0.4103 Validation Accuracy: 0.875000\n",
      "Epoch 71, CIFAR-10 Batch 5:  Loss:     0.4306 Validation Accuracy: 0.900000\n",
      "Epoch 72, CIFAR-10 Batch 1:  Loss:     0.4165 Validation Accuracy: 0.875000\n",
      "Epoch 72, CIFAR-10 Batch 2:  Loss:     0.3540 Validation Accuracy: 0.900000\n",
      "Epoch 72, CIFAR-10 Batch 3:  Loss:     0.3723 Validation Accuracy: 0.850000\n",
      "Epoch 72, CIFAR-10 Batch 4:  Loss:     0.4398 Validation Accuracy: 0.850000\n",
      "Epoch 72, CIFAR-10 Batch 5:  Loss:     0.4488 Validation Accuracy: 0.925000\n",
      "Epoch 73, CIFAR-10 Batch 1:  Loss:     0.3854 Validation Accuracy: 0.850000\n",
      "Epoch 73, CIFAR-10 Batch 2:  Loss:     0.3988 Validation Accuracy: 0.850000\n",
      "Epoch 73, CIFAR-10 Batch 3:  Loss:     0.4225 Validation Accuracy: 0.875000\n",
      "Epoch 73, CIFAR-10 Batch 4:  Loss:     0.4141 Validation Accuracy: 0.875000\n",
      "Epoch 73, CIFAR-10 Batch 5:  Loss:     0.4012 Validation Accuracy: 0.925000\n",
      "Epoch 74, CIFAR-10 Batch 1:  Loss:     0.4223 Validation Accuracy: 0.850000\n",
      "Epoch 74, CIFAR-10 Batch 2:  Loss:     0.3693 Validation Accuracy: 0.825000\n",
      "Epoch 74, CIFAR-10 Batch 3:  Loss:     0.3758 Validation Accuracy: 0.875000\n",
      "Epoch 74, CIFAR-10 Batch 4:  Loss:     0.4240 Validation Accuracy: 0.875000\n",
      "Epoch 74, CIFAR-10 Batch 5:  Loss:     0.4266 Validation Accuracy: 0.900000\n",
      "Epoch 75, CIFAR-10 Batch 1:  Loss:     0.3742 Validation Accuracy: 0.850000\n",
      "Epoch 75, CIFAR-10 Batch 2:  Loss:     0.3628 Validation Accuracy: 0.850000\n",
      "Epoch 75, CIFAR-10 Batch 3:  Loss:     0.3875 Validation Accuracy: 0.875000\n",
      "Epoch 75, CIFAR-10 Batch 4:  Loss:     0.4077 Validation Accuracy: 0.875000\n",
      "Epoch 75, CIFAR-10 Batch 5:  Loss:     0.4489 Validation Accuracy: 0.900000\n",
      "Epoch 76, CIFAR-10 Batch 1:  Loss:     0.3673 Validation Accuracy: 0.850000\n",
      "Epoch 76, CIFAR-10 Batch 2:  Loss:     0.3871 Validation Accuracy: 0.875000\n",
      "Epoch 76, CIFAR-10 Batch 3:  Loss:     0.3431 Validation Accuracy: 0.925000\n",
      "Epoch 76, CIFAR-10 Batch 4:  Loss:     0.4188 Validation Accuracy: 0.900000\n",
      "Epoch 76, CIFAR-10 Batch 5:  Loss:     0.3681 Validation Accuracy: 0.950000\n",
      "Epoch 77, CIFAR-10 Batch 1:  Loss:     0.4236 Validation Accuracy: 0.850000\n",
      "Epoch 77, CIFAR-10 Batch 2:  Loss:     0.3793 Validation Accuracy: 0.875000\n",
      "Epoch 77, CIFAR-10 Batch 3:  Loss:     0.3494 Validation Accuracy: 0.875000\n",
      "Epoch 77, CIFAR-10 Batch 4:  Loss:     0.4220 Validation Accuracy: 0.875000\n",
      "Epoch 77, CIFAR-10 Batch 5:  Loss:     0.3786 Validation Accuracy: 0.925000\n",
      "Epoch 78, CIFAR-10 Batch 1:  Loss:     0.4034 Validation Accuracy: 0.850000\n",
      "Epoch 78, CIFAR-10 Batch 2:  Loss:     0.3688 Validation Accuracy: 0.900000\n",
      "Epoch 78, CIFAR-10 Batch 3:  Loss:     0.3475 Validation Accuracy: 0.900000\n",
      "Epoch 78, CIFAR-10 Batch 4:  Loss:     0.4131 Validation Accuracy: 0.850000\n",
      "Epoch 78, CIFAR-10 Batch 5:  Loss:     0.4094 Validation Accuracy: 0.925000\n",
      "Epoch 79, CIFAR-10 Batch 1:  Loss:     0.3648 Validation Accuracy: 0.875000\n",
      "Epoch 79, CIFAR-10 Batch 2:  Loss:     0.3230 Validation Accuracy: 0.900000\n",
      "Epoch 79, CIFAR-10 Batch 3:  Loss:     0.4117 Validation Accuracy: 0.875000\n",
      "Epoch 79, CIFAR-10 Batch 4:  Loss:     0.4064 Validation Accuracy: 0.850000\n",
      "Epoch 79, CIFAR-10 Batch 5:  Loss:     0.4294 Validation Accuracy: 0.875000\n",
      "Epoch 80, CIFAR-10 Batch 1:  Loss:     0.3649 Validation Accuracy: 0.875000\n",
      "Epoch 80, CIFAR-10 Batch 2:  Loss:     0.3420 Validation Accuracy: 0.875000\n",
      "Epoch 80, CIFAR-10 Batch 3:  Loss:     0.3795 Validation Accuracy: 0.875000\n",
      "Epoch 80, CIFAR-10 Batch 4:  Loss:     0.4102 Validation Accuracy: 0.850000\n",
      "Epoch 80, CIFAR-10 Batch 5:  Loss:     0.4609 Validation Accuracy: 0.875000\n",
      "Epoch 81, CIFAR-10 Batch 1:  Loss:     0.3623 Validation Accuracy: 0.875000\n",
      "Epoch 81, CIFAR-10 Batch 2:  Loss:     0.3151 Validation Accuracy: 0.925000\n",
      "Epoch 81, CIFAR-10 Batch 3:  Loss:     0.3728 Validation Accuracy: 0.875000\n",
      "Epoch 81, CIFAR-10 Batch 4:  Loss:     0.3861 Validation Accuracy: 0.900000\n",
      "Epoch 81, CIFAR-10 Batch 5:  Loss:     0.3873 Validation Accuracy: 0.900000\n",
      "Epoch 82, CIFAR-10 Batch 1:  Loss:     0.4086 Validation Accuracy: 0.875000\n",
      "Epoch 82, CIFAR-10 Batch 2:  Loss:     0.3263 Validation Accuracy: 0.900000\n",
      "Epoch 82, CIFAR-10 Batch 3:  Loss:     0.3268 Validation Accuracy: 0.850000\n",
      "Epoch 82, CIFAR-10 Batch 4:  Loss:     0.4304 Validation Accuracy: 0.850000\n",
      "Epoch 82, CIFAR-10 Batch 5:  Loss:     0.4171 Validation Accuracy: 0.875000\n",
      "Epoch 83, CIFAR-10 Batch 1:  Loss:     0.3525 Validation Accuracy: 0.925000\n",
      "Epoch 83, CIFAR-10 Batch 2:  Loss:     0.3073 Validation Accuracy: 0.875000\n",
      "Epoch 83, CIFAR-10 Batch 3:  Loss:     0.3467 Validation Accuracy: 0.875000\n",
      "Epoch 83, CIFAR-10 Batch 4:  Loss:     0.4013 Validation Accuracy: 0.850000\n",
      "Epoch 83, CIFAR-10 Batch 5:  Loss:     0.3922 Validation Accuracy: 0.900000\n",
      "Epoch 84, CIFAR-10 Batch 1:  Loss:     0.3596 Validation Accuracy: 0.875000\n",
      "Epoch 84, CIFAR-10 Batch 2:  Loss:     0.2865 Validation Accuracy: 0.925000\n",
      "Epoch 84, CIFAR-10 Batch 3:  Loss:     0.3689 Validation Accuracy: 0.900000\n",
      "Epoch 84, CIFAR-10 Batch 4:  Loss:     0.4346 Validation Accuracy: 0.850000\n",
      "Epoch 84, CIFAR-10 Batch 5:  Loss:     0.4170 Validation Accuracy: 0.900000\n",
      "Epoch 85, CIFAR-10 Batch 1:  Loss:     0.3839 Validation Accuracy: 0.850000\n",
      "Epoch 85, CIFAR-10 Batch 2:  Loss:     0.3592 Validation Accuracy: 0.875000\n",
      "Epoch 85, CIFAR-10 Batch 3:  Loss:     0.3757 Validation Accuracy: 0.875000\n",
      "Epoch 85, CIFAR-10 Batch 4:  Loss:     0.3975 Validation Accuracy: 0.850000\n",
      "Epoch 85, CIFAR-10 Batch 5:  Loss:     0.4185 Validation Accuracy: 0.900000\n",
      "Epoch 86, CIFAR-10 Batch 1:  Loss:     0.3787 Validation Accuracy: 0.875000\n",
      "Epoch 86, CIFAR-10 Batch 2:  Loss:     0.3079 Validation Accuracy: 0.900000\n",
      "Epoch 86, CIFAR-10 Batch 3:  Loss:     0.3321 Validation Accuracy: 0.875000\n",
      "Epoch 86, CIFAR-10 Batch 4:  Loss:     0.4136 Validation Accuracy: 0.850000\n",
      "Epoch 86, CIFAR-10 Batch 5:  Loss:     0.4026 Validation Accuracy: 0.900000\n",
      "Epoch 87, CIFAR-10 Batch 1:  Loss:     0.3675 Validation Accuracy: 0.875000\n",
      "Epoch 87, CIFAR-10 Batch 2:  Loss:     0.3320 Validation Accuracy: 0.875000\n",
      "Epoch 87, CIFAR-10 Batch 3:  Loss:     0.3737 Validation Accuracy: 0.900000\n",
      "Epoch 87, CIFAR-10 Batch 4:  Loss:     0.4003 Validation Accuracy: 0.875000\n",
      "Epoch 87, CIFAR-10 Batch 5:  Loss:     0.3696 Validation Accuracy: 0.925000\n",
      "Epoch 88, CIFAR-10 Batch 1:  Loss:     0.3396 Validation Accuracy: 0.850000\n",
      "Epoch 88, CIFAR-10 Batch 2:  Loss:     0.3280 Validation Accuracy: 0.900000\n",
      "Epoch 88, CIFAR-10 Batch 3:  Loss:     0.3355 Validation Accuracy: 0.900000\n",
      "Epoch 88, CIFAR-10 Batch 4:  Loss:     0.4000 Validation Accuracy: 0.875000\n",
      "Epoch 88, CIFAR-10 Batch 5:  Loss:     0.4213 Validation Accuracy: 0.900000\n",
      "Epoch 89, CIFAR-10 Batch 1:  Loss:     0.3624 Validation Accuracy: 0.875000\n",
      "Epoch 89, CIFAR-10 Batch 2:  Loss:     0.3252 Validation Accuracy: 0.875000\n",
      "Epoch 89, CIFAR-10 Batch 3:  Loss:     0.3944 Validation Accuracy: 0.900000\n",
      "Epoch 89, CIFAR-10 Batch 4:  Loss:     0.3865 Validation Accuracy: 0.875000\n",
      "Epoch 89, CIFAR-10 Batch 5:  Loss:     0.4023 Validation Accuracy: 0.900000\n",
      "Epoch 90, CIFAR-10 Batch 1:  Loss:     0.3537 Validation Accuracy: 0.900000\n",
      "Epoch 90, CIFAR-10 Batch 2:  Loss:     0.2928 Validation Accuracy: 0.900000\n",
      "Epoch 90, CIFAR-10 Batch 3:  Loss:     0.4189 Validation Accuracy: 0.875000\n",
      "Epoch 90, CIFAR-10 Batch 4:  Loss:     0.4125 Validation Accuracy: 0.875000\n",
      "Epoch 90, CIFAR-10 Batch 5:  Loss:     0.4147 Validation Accuracy: 0.850000\n",
      "Epoch 91, CIFAR-10 Batch 1:  Loss:     0.3469 Validation Accuracy: 0.900000\n",
      "Epoch 91, CIFAR-10 Batch 2:  Loss:     0.3081 Validation Accuracy: 0.850000\n",
      "Epoch 91, CIFAR-10 Batch 3:  Loss:     0.3714 Validation Accuracy: 0.925000\n",
      "Epoch 91, CIFAR-10 Batch 4:  Loss:     0.3850 Validation Accuracy: 0.875000\n",
      "Epoch 91, CIFAR-10 Batch 5:  Loss:     0.4091 Validation Accuracy: 0.900000\n",
      "Epoch 92, CIFAR-10 Batch 1:  Loss:     0.3096 Validation Accuracy: 0.925000\n",
      "Epoch 92, CIFAR-10 Batch 2:  Loss:     0.3235 Validation Accuracy: 0.875000\n",
      "Epoch 92, CIFAR-10 Batch 3:  Loss:     0.3352 Validation Accuracy: 0.875000\n",
      "Epoch 92, CIFAR-10 Batch 4:  Loss:     0.4020 Validation Accuracy: 0.850000\n",
      "Epoch 92, CIFAR-10 Batch 5:  Loss:     0.3610 Validation Accuracy: 0.925000\n",
      "Epoch 93, CIFAR-10 Batch 1:  Loss:     0.3258 Validation Accuracy: 0.900000\n",
      "Epoch 93, CIFAR-10 Batch 2:  Loss:     0.2978 Validation Accuracy: 0.925000\n",
      "Epoch 93, CIFAR-10 Batch 3:  Loss:     0.3958 Validation Accuracy: 0.875000\n",
      "Epoch 93, CIFAR-10 Batch 4:  Loss:     0.4100 Validation Accuracy: 0.825000\n",
      "Epoch 93, CIFAR-10 Batch 5:  Loss:     0.3987 Validation Accuracy: 0.900000\n",
      "Epoch 94, CIFAR-10 Batch 1:  Loss:     0.3578 Validation Accuracy: 0.900000\n",
      "Epoch 94, CIFAR-10 Batch 2:  Loss:     0.2887 Validation Accuracy: 0.875000\n",
      "Epoch 94, CIFAR-10 Batch 3:  Loss:     0.3382 Validation Accuracy: 0.900000\n",
      "Epoch 94, CIFAR-10 Batch 4:  Loss:     0.3868 Validation Accuracy: 0.850000\n",
      "Epoch 94, CIFAR-10 Batch 5:  Loss:     0.4177 Validation Accuracy: 0.825000\n",
      "Epoch 95, CIFAR-10 Batch 1:  Loss:     0.3551 Validation Accuracy: 0.900000\n",
      "Epoch 95, CIFAR-10 Batch 2:  Loss:     0.2971 Validation Accuracy: 0.875000\n",
      "Epoch 95, CIFAR-10 Batch 3:  Loss:     0.3592 Validation Accuracy: 0.850000\n",
      "Epoch 95, CIFAR-10 Batch 4:  Loss:     0.3762 Validation Accuracy: 0.875000\n",
      "Epoch 95, CIFAR-10 Batch 5:  Loss:     0.3633 Validation Accuracy: 0.925000\n",
      "Epoch 96, CIFAR-10 Batch 1:  Loss:     0.3425 Validation Accuracy: 0.900000\n",
      "Epoch 96, CIFAR-10 Batch 2:  Loss:     0.3191 Validation Accuracy: 0.900000\n",
      "Epoch 96, CIFAR-10 Batch 3:  Loss:     0.3490 Validation Accuracy: 0.900000\n",
      "Epoch 96, CIFAR-10 Batch 4:  Loss:     0.4023 Validation Accuracy: 0.850000\n",
      "Epoch 96, CIFAR-10 Batch 5:  Loss:     0.3391 Validation Accuracy: 0.925000\n",
      "Epoch 97, CIFAR-10 Batch 1:  Loss:     0.3199 Validation Accuracy: 0.900000\n",
      "Epoch 97, CIFAR-10 Batch 2:  Loss:     0.3459 Validation Accuracy: 0.875000\n",
      "Epoch 97, CIFAR-10 Batch 3:  Loss:     0.3056 Validation Accuracy: 0.925000\n",
      "Epoch 97, CIFAR-10 Batch 4:  Loss:     0.3921 Validation Accuracy: 0.850000\n",
      "Epoch 97, CIFAR-10 Batch 5:  Loss:     0.4019 Validation Accuracy: 0.875000\n",
      "Epoch 98, CIFAR-10 Batch 1:  Loss:     0.3136 Validation Accuracy: 0.900000\n",
      "Epoch 98, CIFAR-10 Batch 2:  Loss:     0.3152 Validation Accuracy: 0.900000\n",
      "Epoch 98, CIFAR-10 Batch 3:  Loss:     0.3194 Validation Accuracy: 0.875000\n",
      "Epoch 98, CIFAR-10 Batch 4:  Loss:     0.3887 Validation Accuracy: 0.875000\n",
      "Epoch 98, CIFAR-10 Batch 5:  Loss:     0.3773 Validation Accuracy: 0.925000\n",
      "Epoch 99, CIFAR-10 Batch 1:  Loss:     0.2801 Validation Accuracy: 0.950000\n",
      "Epoch 99, CIFAR-10 Batch 2:  Loss:     0.3011 Validation Accuracy: 0.875000\n",
      "Epoch 99, CIFAR-10 Batch 3:  Loss:     0.3259 Validation Accuracy: 0.925000\n",
      "Epoch 99, CIFAR-10 Batch 4:  Loss:     0.3923 Validation Accuracy: 0.900000\n",
      "Epoch 99, CIFAR-10 Batch 5:  Loss:     0.3768 Validation Accuracy: 0.900000\n",
      "Epoch 100, CIFAR-10 Batch 1:  Loss:     0.2883 Validation Accuracy: 0.925000\n",
      "Epoch 100, CIFAR-10 Batch 2:  Loss:     0.2554 Validation Accuracy: 0.925000\n",
      "Epoch 100, CIFAR-10 Batch 3:  Loss:     0.3145 Validation Accuracy: 0.900000\n",
      "Epoch 100, CIFAR-10 Batch 4:  Loss:     0.3649 Validation Accuracy: 0.875000\n",
      "Epoch 100, CIFAR-10 Batch 5:  Loss:     0.3649 Validation Accuracy: 0.875000\n"
     ]
    }
   ],
   "source": [
    "\"\"\"\n",
    "DON'T MODIFY ANYTHING IN THIS CELL\n",
    "\"\"\"\n",
    "save_model_path = './image_classification'\n",
    "\n",
    "print('Training...')\n",
    "with tf.Session() as sess:\n",
    "    # Initializing the variables\n",
    "    sess.run(tf.global_variables_initializer())\n",
    "    \n",
    "    # Training cycle\n",
    "    for epoch in range(epochs):\n",
    "        # Loop over all batches\n",
    "        n_batches = 5\n",
    "        for batch_i in range(1, n_batches + 1):\n",
    "            for batch_features, batch_labels in helper.load_preprocess_training_batch(batch_i, batch_size):\n",
    "                train_neural_network(sess, optimizer, keep_probability, batch_features, batch_labels)\n",
    "            print('Epoch {:>2}, CIFAR-10 Batch {}:  '.format(epoch + 1, batch_i), end='')\n",
    "            print_stats(sess, batch_features, batch_labels, cost, accuracy)\n",
    "            \n",
    "    # Save Model\n",
    "    saver = tf.train.Saver()\n",
    "    save_path = saver.save(sess, save_model_path)"
   ]
  },
  {
   "cell_type": "markdown",
   "metadata": {
    "deletable": true,
    "editable": true
   },
   "source": [
    "# Checkpoint\n",
    "The model has been saved to disk.\n",
    "## Test Model\n",
    "Test your model against the test dataset.  This will be your final accuracy. You should have an accuracy greater than 50%. If you don't, keep tweaking the model architecture and parameters."
   ]
  },
  {
   "cell_type": "code",
   "execution_count": 28,
   "metadata": {
    "collapsed": false,
    "deletable": true,
    "editable": true
   },
   "outputs": [
    {
     "name": "stdout",
     "output_type": "stream",
     "text": [
      "Testing Accuracy: 0.6615246815286624\n",
      "\n"
     ]
    },
    {
     "data": {
      "image/png": "[encoded data removed]",
      "text/plain": [
       "<matplotlib.figure.Figure at 0x7f7ee84824e0>"
      ]
     },
     "metadata": {
      "image/png": {
       "height": 319,
       "width": 355
      }
     },
     "output_type": "display_data"
    }
   ],
   "source": [
    "\"\"\"\n",
    "DON'T MODIFY ANYTHING IN THIS CELL\n",
    "\"\"\"\n",
    "%matplotlib inline\n",
    "%config InlineBackend.figure_format = 'retina'\n",
    "\n",
    "import tensorflow as tf\n",
    "import pickle\n",
    "import helper\n",
    "import random\n",
    "\n",
    "# Set batch size if not already set\n",
    "try:\n",
    "    if batch_size:\n",
    "        pass\n",
    "except NameError:\n",
    "    batch_size = 64\n",
    "\n",
    "save_model_path = './image_classification'\n",
    "n_samples = 4\n",
    "top_n_predictions = 3\n",
    "\n",
    "def test_model():\n",
    "    \"\"\"\n",
    "    Test the saved model against the test dataset\n",
    "    \"\"\"\n",
    "\n",
    "    test_features, test_labels = pickle.load(open('preprocess_test.p', mode='rb'))\n",
    "    loaded_graph = tf.Graph()\n",
    "\n",
    "    with tf.Session(graph=loaded_graph) as sess:\n",
    "        # Load model\n",
    "        loader = tf.train.import_meta_graph(save_model_path + '.meta')\n",
    "        loader.restore(sess, save_model_path)\n",
    "\n",
    "        # Get Tensors from loaded model\n",
    "        loaded_x = loaded_graph.get_tensor_by_name('x:0')\n",
    "        loaded_y = loaded_graph.get_tensor_by_name('y:0')\n",
    "        loaded_keep_prob = loaded_graph.get_tensor_by_name('keep_prob:0')\n",
    "        loaded_logits = loaded_graph.get_tensor_by_name('logits:0')\n",
    "        loaded_acc = loaded_graph.get_tensor_by_name('accuracy:0')\n",
    "        \n",
    "        # Get accuracy in batches for memory limitations\n",
    "        test_batch_acc_total = 0\n",
    "        test_batch_count = 0\n",
    "        \n",
    "        for test_feature_batch, test_label_batch in helper.batch_features_labels(test_features, test_labels, batch_size):\n",
    "            test_batch_acc_total += sess.run(\n",
    "                loaded_acc,\n",
    "                feed_dict={loaded_x: test_feature_batch, loaded_y: test_label_batch, loaded_keep_prob: 1.0})\n",
    "            test_batch_count += 1\n",
    "\n",
    "        print('Testing Accuracy: {}\\n'.format(test_batch_acc_total/test_batch_count))\n",
    "\n",
    "        # Print Random Samples\n",
    "        random_test_features, random_test_labels = tuple(zip(*random.sample(list(zip(test_features, test_labels)), n_samples)))\n",
    "        random_test_predictions = sess.run(\n",
    "            tf.nn.top_k(tf.nn.softmax(loaded_logits), top_n_predictions),\n",
    "            feed_dict={loaded_x: random_test_features, loaded_y: random_test_labels, loaded_keep_prob: 1.0})\n",
    "        helper.display_image_predictions(random_test_features, random_test_labels, random_test_predictions)\n",
    "\n",
    "\n",
    "test_model()"
   ]
  },
  {
   "cell_type": "markdown",
   "metadata": {
    "deletable": true,
    "editable": true
   },
   "source": [
    "## Why 50-80% Accuracy?\n",
    "You might be wondering why you can't get an accuracy any higher. First things first, 50% isn't bad for a simple CNN.  Pure guessing would get you 10% accuracy. However, you might notice people are getting scores [well above 80%](http://rodrigob.github.io/are_we_there_yet/build/classification_datasets_results.html#43494641522d3130).  That's because we haven't taught you all there is to know about neural networks. We still need to cover a few more techniques.\n",
    "## Submitting This Project\n",
    "When submitting this project, make sure to run all the cells before saving the notebook.  Save the notebook file as \"dlnd_image_classification.ipynb\" and save it as a HTML file under \"File\" -> \"Download as\".  Include the \"helper.py\" and \"problem_unittests.py\" files in your submission."
   ]
  }
 ],
 "metadata": {
  "kernelspec": {
   "display_name": "Python 3",
   "language": "python",
   "name": "python3"
  },
  "language_info": {
   "codemirror_mode": {
    "name": "ipython",
    "version": 3
   },
   "file_extension": ".py",
   "mimetype": "text/x-python",
   "name": "python",
   "nbconvert_exporter": "python",
   "pygments_lexer": "ipython3",
   "version": "3.5.2"
  },
  "widgets": {
   "state": {},
   "version": "1.1.2"
  }
 },
 "nbformat": 4,
 "nbformat_minor": 0
}
